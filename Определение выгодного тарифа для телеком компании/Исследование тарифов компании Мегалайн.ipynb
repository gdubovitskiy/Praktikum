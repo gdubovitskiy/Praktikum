{
 "cells": [
  {
   "cell_type": "markdown",
   "metadata": {
    "id": "wIBapJenlWeh"
   },
   "source": [
    "# Исследование тарифов компании \"Мегалайн\""
   ]
  },
  {
   "cell_type": "markdown",
   "metadata": {
    "id": "hdXmpC2PlnbW"
   },
   "source": [
    "## Цель исследования"
   ]
  },
  {
   "cell_type": "markdown",
   "metadata": {
    "id": "vyryBbg4l4vX"
   },
   "source": [
    "Сделать предварительный анализ тарифов на небольшой выборке клиентов. В нашем распоряжении данные 500 пользователей «Мегалайна»: кто они, откуда, каким тарифом пользуются, сколько звонков и сообщений каждый отправил за 2018 год."
   ]
  },
  {
   "cell_type": "markdown",
   "metadata": {
    "id": "Sz-1Are5qzm8"
   },
   "source": [
    "## Задача исследования"
   ]
  },
  {
   "cell_type": "markdown",
   "metadata": {
    "id": "YPB_HxpQq2pg"
   },
   "source": [
    "Проанализировать поведение клиентов и сделать вывод — какой тариф лучше."
   ]
  },
  {
   "cell_type": "markdown",
   "metadata": {
    "id": "2dRn0PSPkNpJ"
   },
   "source": [
    "## Описание тарифов"
   ]
  },
  {
   "cell_type": "markdown",
   "metadata": {
    "id": "3ubYridEnV0M"
   },
   "source": [
    "**Тариф «Смарт»**\n",
    "\n",
    "1.   Ежемесячная плата: 550 рублей\n",
    "2.   Включено 500 минут разговора, 50 сообщений и 15 Гб интернет-трафика\n",
    "3.   Стоимость услуг сверх тарифного пакета:\n",
    "* минута разговора: 3 рубля («Мегалайн» всегда округляет вверх значения минут и мегабайтов. Если пользователь проговорил всего 1 секунду, в тарифе засчитывается целая минута.)\n",
    "* сообщение: 3 рубля\n",
    "* 1 Гб интернет-трафика: 200 рублей"
   ]
  },
  {
   "cell_type": "markdown",
   "metadata": {
    "id": "dEfpwIx5nqxz"
   },
   "source": [
    "**Тариф «Ультра»**\n",
    "1. Ежемесячная плата: 1950 рублей\n",
    "2. Включено 3000 минут разговора, 1000 сообщений и 30 Гб интернет-трафика\n",
    "3. Стоимость услуг сверх тарифного пакета:\n",
    "* минута разговора: 1 рубль\n",
    "* сообщение: 1 рубль\n",
    "* 1 Гб интернет-трафика: 150 рублей"
   ]
  },
  {
   "cell_type": "markdown",
   "metadata": {
    "id": "8HA-WzbenzfX"
   },
   "source": [
    "## Описание данных"
   ]
  },
  {
   "cell_type": "markdown",
   "metadata": {
    "id": "3kneSNU9n4N-"
   },
   "source": [
    "Таблица `users` (информация о пользователях):\n",
    "* *user_id* — уникальный идентификатор пользователя\n",
    "* *first_name* — имя пользователя\n",
    "* *last_name* — фамилия пользователя\n",
    "* *age* — возраст пользователя (годы)\n",
    "* *reg_date* — дата подключения тарифа (день, месяц, год)\n",
    "* *churn_date* — дата прекращения пользования тарифом (если значение пропущено, то тариф ещё действовал на момент выгрузки данных)\n",
    "* *city* — город проживания пользователя\n",
    "* *tariff* — название тарифного плана"
   ]
  },
  {
   "cell_type": "markdown",
   "metadata": {
    "id": "-WQENP-xoHcc"
   },
   "source": [
    "Таблица `calls` (информация о звонках):\n",
    "* *id* — уникальный номер звонка\n",
    "* *call_date* — дата звонка\n",
    "* *duration* — длительность звонка в минутах\n",
    "* *user_id* — идентификатор пользователя, сделавшего звонок"
   ]
  },
  {
   "cell_type": "markdown",
   "metadata": {
    "id": "Q-e8pzkhoVH7"
   },
   "source": [
    "Таблица `messages` (информация о сообщениях):\n",
    "* *id* — уникальный номер сообщения\n",
    "* *message_date* — дата сообщения\n",
    "* *user_id* — идентификатор пользователя, отправившего сообщение"
   ]
  },
  {
   "cell_type": "markdown",
   "metadata": {
    "id": "Jw3rZ9laodfI"
   },
   "source": [
    "Таблица `internet` (информация об интернет-сессиях):\n",
    "* *id* — уникальный номер сессии\n",
    "* *mb_used* — объём потраченного за сессию интернет-трафика (в мегабайтах)\n",
    "* *session_date* — дата интернет-сессии\n",
    "* *user_id* — идентификатор пользователя"
   ]
  },
  {
   "cell_type": "markdown",
   "metadata": {
    "id": "Yc8y52LTodT4"
   },
   "source": [
    "Таблица `tariffs` (информация о тарифах):\n",
    "* *tariff_name* — название тарифа\n",
    "* *rub_monthly_fee* — ежемесячная абонентская плата в рублях\n",
    "* *minutes_included* — количество минут разговора в месяц, включённых в абонентскую плату\n",
    "* *messages_included* — количество сообщений в месяц, включённых в абонентскую плату\n",
    "* *mb_per_month_included* — объём интернет-трафика, включённого в абонентскую плату (в мегабайтах)\n",
    "* *rub_per_minute* — стоимость минуты разговора сверх тарифного пакета (например, если в тарифе 100 минут разговора в месяц, то со 101 минуты будет взиматься плата)\n",
    "* *rub_per_message* — стоимость отправки сообщения сверх тарифного пакета\n",
    "* *rub_per_gb* — стоимость дополнительного гигабайта интернет-трафика сверх тарифного пакета (1 гигабайт = 1024 мегабайта)"
   ]
  },
  {
   "cell_type": "code",
   "execution_count": 1,
   "metadata": {
    "colab": {
     "base_uri": "https://localhost:8080/"
    },
    "id": "1LYqyBYpnvIU",
    "outputId": "6b96bb62-2091-4714-8644-44a3a191b93a"
   },
   "outputs": [],
   "source": [
    "# !pip install seaborn -U"
   ]
  },
  {
   "cell_type": "markdown",
   "metadata": {
    "id": "dCZQJ0hOrlAI"
   },
   "source": [
    "### requirements.txt"
   ]
  },
  {
   "cell_type": "code",
   "execution_count": 2,
   "metadata": {
    "id": "XOfM5f3prSp-"
   },
   "outputs": [],
   "source": [
    "# pandas==1.1.5\n",
    "# pandas-datareader==0.9.0\n",
    "# pandas-gbq==0.13.3\n",
    "# pandas-profiling==1.4.1\n",
    "# numpy==1.19.5\n",
    "# seaborn==0.11.1\n",
    "# matplotlib==3.2.2\n",
    "# tqdm==4.41.1\n",
    "# scipy==1.4.1"
   ]
  },
  {
   "cell_type": "markdown",
   "metadata": {
    "id": "a22bdd_dpBUS"
   },
   "source": [
    "## 1. Изучение общей информации"
   ]
  },
  {
   "cell_type": "markdown",
   "metadata": {
    "id": "FRj8TJUxqTFw"
   },
   "source": [
    "### Импорт библиотек"
   ]
  },
  {
   "cell_type": "code",
   "execution_count": 3,
   "metadata": {
    "id": "eeDmMNQiqfj0"
   },
   "outputs": [],
   "source": [
    "import pandas as pd\n",
    "import numpy as np\n",
    "import seaborn as sns\n",
    "import matplotlib.pyplot as plt\n",
    "import warnings \n",
    "import math as mt\n",
    "import requests\n",
    "from tqdm.notebook import tqdm\n",
    "from scipy import stats as st\n",
    "\n",
    "sns.set_theme(style=\"darkgrid\")\n",
    "# sns.set_palette(\"Greys_r\")\n",
    "warnings.simplefilter('ignore')\n",
    "tqdm.pandas()"
   ]
  },
  {
   "cell_type": "markdown",
   "metadata": {
    "id": "BdYG4VKkuPJ6"
   },
   "source": [
    "### Добавление функций"
   ]
  },
  {
   "cell_type": "code",
   "execution_count": 4,
   "metadata": {
    "id": "1gXq6sQb7O8s"
   },
   "outputs": [],
   "source": [
    "# вывод количества пропущенных значений и процентное соотношение ко всем строкам dataframe\n",
    "def view_null_values(data):\n",
    "    return (data\n",
    "         .isnull()\n",
    "         .sum()\n",
    "         .to_frame(name = 'count_null_values')\n",
    "         .query('count_null_values != 0')\n",
    "         .assign(percent = lambda x: (x['count_null_values']/len(data)))\n",
    "         .sort_values(by = 'count_null_values', ascending = False)\n",
    "         .style.format({'percent' : '{:.1%}'})\n",
    "    )"
   ]
  },
  {
   "cell_type": "code",
   "execution_count": 5,
   "metadata": {
    "id": "3Qr9Y0-M8Cz4"
   },
   "outputs": [],
   "source": [
    "# подсчет занимаемой памяти\n",
    "def mem_usage(data, size = True):\n",
    "    # проверим, что передаем DataFrame\n",
    "    if isinstance(data, pd.DataFrame):\n",
    "        usage_b = data.memory_usage(deep=True).sum()\n",
    "    # иначе это Series\n",
    "    else:\n",
    "        usage_b = data.memory_usage(deep=True)\n",
    "    # переведем в Мб\n",
    "    usage_mb = usage_b / 1024 ** 2\n",
    "    if size: \n",
    "        return f\"{usage_mb:03.2f} MB\"\n",
    "    return float(f\"{usage_mb:03.2f}\")"
   ]
  },
  {
   "cell_type": "code",
   "execution_count": 6,
   "metadata": {
    "id": "6D70bC7ecR2L"
   },
   "outputs": [],
   "source": [
    "# подсчет количества вариантов\n",
    "def nCr(n, k):\n",
    "    return mt.factorial(n) / (mt.factorial(k) * mt.factorial(n-k))"
   ]
  },
  {
   "cell_type": "code",
   "execution_count": 7,
   "metadata": {
    "id": "z2iMv1q0fTp8"
   },
   "outputs": [],
   "source": [
    "# отрисовка распределения вероятности на графике\n",
    "def view_p_bar(n, p):\n",
    "    distr = []\n",
    "\n",
    "    for k in tqdm(range(0, n + 1)):\n",
    "        choose = nCr(n, k)\n",
    "        prob = choose * p ** k * (1 - p) ** (n - k)\n",
    "        distr.append(prob)\n",
    "\n",
    "    plt.bar(range(0,n+1), distr)\n",
    "    plt.xlabel('n', fontweight='bold')\n",
    "    plt.ylabel('p', fontweight='bold')\n",
    "    plt.title('p(n)', fontweight='bold')"
   ]
  },
  {
   "cell_type": "code",
   "execution_count": 8,
   "metadata": {
    "id": "p3SRU2uVWhbG"
   },
   "outputs": [],
   "source": [
    "# проверка гипотез о равенстве среднего двух генеральных совокупностей по взятым из них выборкам\n",
    "def check_hip(data1, data2, alpha, equal_var = True):\n",
    "    results = st.ttest_ind(data1, data2, equal_var=equal_var)\n",
    "\n",
    "    print('p-значение:', results.pvalue)\n",
    "\n",
    "    if results.pvalue < alpha:\n",
    "        print(\"Отвергаем нулевую гипотезу\")\n",
    "    else:\n",
    "        print(\"Не получилось отвергнуть нулевую гипотезу\")"
   ]
  },
  {
   "cell_type": "code",
   "execution_count": 9,
   "metadata": {
    "id": "9q32sPRX1Jh1"
   },
   "outputs": [],
   "source": [
    "# проверка равенства дисперсий\n",
    "def equal_variance(data):\n",
    "    return np.var(data, ddof=1)"
   ]
  },
  {
   "cell_type": "markdown",
   "metadata": {
    "id": "76826oAFrWtH"
   },
   "source": [
    "### Обзор данных"
   ]
  },
  {
   "cell_type": "code",
   "execution_count": 10,
   "metadata": {},
   "outputs": [],
   "source": [
    "data = ['calls.csv', 'internet.csv', 'messages.csv', 'tariffs.csv', 'users.csv']\n",
    "path = open('link.txt', 'r').readline()\n",
    "\n",
    "for file in data:\n",
    "    try:\n",
    "        response = requests.get(path + file)\n",
    "        response.raise_for_status()\n",
    "    except requests.exceptions.HTTPError:\n",
    "        path = '/datasets/'\n",
    "\n",
    "calls = pd.read_csv(path + data[0])\n",
    "internet = pd.read_csv(path + data[1])\n",
    "messages = pd.read_csv(path + data[2])\n",
    "tariffs = pd.read_csv(path + data[3])\n",
    "users = pd.read_csv(path + data[4])"
   ]
  },
  {
   "cell_type": "markdown",
   "metadata": {
    "id": "sBqTKw7myqO7"
   },
   "source": [
    "Для удобства вывода напишем вспомогательные функции:"
   ]
  },
  {
   "cell_type": "code",
   "execution_count": 11,
   "metadata": {
    "id": "SXaxlUCnvBO7"
   },
   "outputs": [],
   "source": [
    "def sep_text(text):\n",
    "    return print(f'''\n",
    "===============================================================\n",
    "{text: ^64}\n",
    "===============================================================\n",
    "    ''')"
   ]
  },
  {
   "cell_type": "code",
   "execution_count": 12,
   "metadata": {
    "id": "jWjFh7egye5o"
   },
   "outputs": [],
   "source": [
    "def brows_data(data, name):\n",
    "    data.name = name\n",
    "    sep_text('DataFrame' + ': ' + name)\n",
    "    display(data)\n",
    "    sep_text('Info' + ': ' + name)\n",
    "    display(data.info())\n",
    "    sep_text('Describe' + ': ' + name)\n",
    "    display(data.describe().T)\n",
    "    sep_text('Dtypes' + ': ' + name)\n",
    "    display(data.dtypes)"
   ]
  },
  {
   "cell_type": "markdown",
   "metadata": {
    "id": "WiYrrvsxu8YT"
   },
   "source": [
    "Выведем краткую информацию о данных:"
   ]
  },
  {
   "cell_type": "code",
   "execution_count": 13,
   "metadata": {
    "colab": {
     "base_uri": "https://localhost:8080/",
     "height": 0,
     "referenced_widgets": [
      "26d25ab2c222442a9179b0117b0a7531",
      "8567295c3f52432384b3cc3c9008fecb",
      "4455f3b7ad0b4aabb93036891829275e",
      "66d42cee3d8c4ebdaeacf67517d9d71b",
      "132d33ec40a54a6da599b6d61046debd",
      "c9dc57da4cc24e6a9c46515b3a5500db",
      "8ddefc07fb7043ea84825b1a777fb91c",
      "f6031e69fe924159b5921eeb39b31f79"
     ]
    },
    "id": "LqB9W1qiwdtz",
    "outputId": "393f6dea-c668-465c-8402-ad2ad97ea187",
    "scrolled": false
   },
   "outputs": [
    {
     "data": {
      "application/vnd.jupyter.widget-view+json": {
       "model_id": "8c8db69ab7ab4bee86af007724b2d84d",
       "version_major": 2,
       "version_minor": 0
      },
      "text/plain": [
       "  0%|          | 0/5 [00:00<?, ?it/s]"
      ]
     },
     "metadata": {},
     "output_type": "display_data"
    },
    {
     "name": "stdout",
     "output_type": "stream",
     "text": [
      "\n",
      "===============================================================\n",
      "                        DataFrame: calls                        \n",
      "===============================================================\n",
      "    \n"
     ]
    },
    {
     "data": {
      "text/html": [
       "<div>\n",
       "<style scoped>\n",
       "    .dataframe tbody tr th:only-of-type {\n",
       "        vertical-align: middle;\n",
       "    }\n",
       "\n",
       "    .dataframe tbody tr th {\n",
       "        vertical-align: top;\n",
       "    }\n",
       "\n",
       "    .dataframe thead th {\n",
       "        text-align: right;\n",
       "    }\n",
       "</style>\n",
       "<table border=\"1\" class=\"dataframe\">\n",
       "  <thead>\n",
       "    <tr style=\"text-align: right;\">\n",
       "      <th></th>\n",
       "      <th>id</th>\n",
       "      <th>call_date</th>\n",
       "      <th>duration</th>\n",
       "      <th>user_id</th>\n",
       "    </tr>\n",
       "  </thead>\n",
       "  <tbody>\n",
       "    <tr>\n",
       "      <th>0</th>\n",
       "      <td>1000_0</td>\n",
       "      <td>2018-07-25</td>\n",
       "      <td>0.00</td>\n",
       "      <td>1000</td>\n",
       "    </tr>\n",
       "    <tr>\n",
       "      <th>1</th>\n",
       "      <td>1000_1</td>\n",
       "      <td>2018-08-17</td>\n",
       "      <td>0.00</td>\n",
       "      <td>1000</td>\n",
       "    </tr>\n",
       "    <tr>\n",
       "      <th>2</th>\n",
       "      <td>1000_2</td>\n",
       "      <td>2018-06-11</td>\n",
       "      <td>2.85</td>\n",
       "      <td>1000</td>\n",
       "    </tr>\n",
       "    <tr>\n",
       "      <th>3</th>\n",
       "      <td>1000_3</td>\n",
       "      <td>2018-09-21</td>\n",
       "      <td>13.80</td>\n",
       "      <td>1000</td>\n",
       "    </tr>\n",
       "    <tr>\n",
       "      <th>4</th>\n",
       "      <td>1000_4</td>\n",
       "      <td>2018-12-15</td>\n",
       "      <td>5.18</td>\n",
       "      <td>1000</td>\n",
       "    </tr>\n",
       "    <tr>\n",
       "      <th>...</th>\n",
       "      <td>...</td>\n",
       "      <td>...</td>\n",
       "      <td>...</td>\n",
       "      <td>...</td>\n",
       "    </tr>\n",
       "    <tr>\n",
       "      <th>202602</th>\n",
       "      <td>1499_215</td>\n",
       "      <td>2018-12-26</td>\n",
       "      <td>0.76</td>\n",
       "      <td>1499</td>\n",
       "    </tr>\n",
       "    <tr>\n",
       "      <th>202603</th>\n",
       "      <td>1499_216</td>\n",
       "      <td>2018-10-18</td>\n",
       "      <td>18.83</td>\n",
       "      <td>1499</td>\n",
       "    </tr>\n",
       "    <tr>\n",
       "      <th>202604</th>\n",
       "      <td>1499_217</td>\n",
       "      <td>2018-11-10</td>\n",
       "      <td>10.81</td>\n",
       "      <td>1499</td>\n",
       "    </tr>\n",
       "    <tr>\n",
       "      <th>202605</th>\n",
       "      <td>1499_218</td>\n",
       "      <td>2018-10-06</td>\n",
       "      <td>4.27</td>\n",
       "      <td>1499</td>\n",
       "    </tr>\n",
       "    <tr>\n",
       "      <th>202606</th>\n",
       "      <td>1499_219</td>\n",
       "      <td>2018-12-14</td>\n",
       "      <td>19.62</td>\n",
       "      <td>1499</td>\n",
       "    </tr>\n",
       "  </tbody>\n",
       "</table>\n",
       "<p>202607 rows × 4 columns</p>\n",
       "</div>"
      ],
      "text/plain": [
       "              id   call_date  duration  user_id\n",
       "0         1000_0  2018-07-25      0.00     1000\n",
       "1         1000_1  2018-08-17      0.00     1000\n",
       "2         1000_2  2018-06-11      2.85     1000\n",
       "3         1000_3  2018-09-21     13.80     1000\n",
       "4         1000_4  2018-12-15      5.18     1000\n",
       "...          ...         ...       ...      ...\n",
       "202602  1499_215  2018-12-26      0.76     1499\n",
       "202603  1499_216  2018-10-18     18.83     1499\n",
       "202604  1499_217  2018-11-10     10.81     1499\n",
       "202605  1499_218  2018-10-06      4.27     1499\n",
       "202606  1499_219  2018-12-14     19.62     1499\n",
       "\n",
       "[202607 rows x 4 columns]"
      ]
     },
     "metadata": {},
     "output_type": "display_data"
    },
    {
     "name": "stdout",
     "output_type": "stream",
     "text": [
      "\n",
      "===============================================================\n",
      "                          Info: calls                           \n",
      "===============================================================\n",
      "    \n",
      "<class 'pandas.core.frame.DataFrame'>\n",
      "RangeIndex: 202607 entries, 0 to 202606\n",
      "Data columns (total 4 columns):\n",
      " #   Column     Non-Null Count   Dtype  \n",
      "---  ------     --------------   -----  \n",
      " 0   id         202607 non-null  object \n",
      " 1   call_date  202607 non-null  object \n",
      " 2   duration   202607 non-null  float64\n",
      " 3   user_id    202607 non-null  int64  \n",
      "dtypes: float64(1), int64(1), object(2)\n",
      "memory usage: 6.2+ MB\n"
     ]
    },
    {
     "data": {
      "text/plain": [
       "None"
      ]
     },
     "metadata": {},
     "output_type": "display_data"
    },
    {
     "name": "stdout",
     "output_type": "stream",
     "text": [
      "\n",
      "===============================================================\n",
      "                        Describe: calls                         \n",
      "===============================================================\n",
      "    \n"
     ]
    },
    {
     "data": {
      "text/html": [
       "<div>\n",
       "<style scoped>\n",
       "    .dataframe tbody tr th:only-of-type {\n",
       "        vertical-align: middle;\n",
       "    }\n",
       "\n",
       "    .dataframe tbody tr th {\n",
       "        vertical-align: top;\n",
       "    }\n",
       "\n",
       "    .dataframe thead th {\n",
       "        text-align: right;\n",
       "    }\n",
       "</style>\n",
       "<table border=\"1\" class=\"dataframe\">\n",
       "  <thead>\n",
       "    <tr style=\"text-align: right;\">\n",
       "      <th></th>\n",
       "      <th>count</th>\n",
       "      <th>mean</th>\n",
       "      <th>std</th>\n",
       "      <th>min</th>\n",
       "      <th>25%</th>\n",
       "      <th>50%</th>\n",
       "      <th>75%</th>\n",
       "      <th>max</th>\n",
       "    </tr>\n",
       "  </thead>\n",
       "  <tbody>\n",
       "    <tr>\n",
       "      <th>duration</th>\n",
       "      <td>202607.0</td>\n",
       "      <td>6.755887</td>\n",
       "      <td>5.843365</td>\n",
       "      <td>0.0</td>\n",
       "      <td>1.3</td>\n",
       "      <td>6.0</td>\n",
       "      <td>10.7</td>\n",
       "      <td>38.0</td>\n",
       "    </tr>\n",
       "    <tr>\n",
       "      <th>user_id</th>\n",
       "      <td>202607.0</td>\n",
       "      <td>1253.940619</td>\n",
       "      <td>144.722751</td>\n",
       "      <td>1000.0</td>\n",
       "      <td>1126.0</td>\n",
       "      <td>1260.0</td>\n",
       "      <td>1379.0</td>\n",
       "      <td>1499.0</td>\n",
       "    </tr>\n",
       "  </tbody>\n",
       "</table>\n",
       "</div>"
      ],
      "text/plain": [
       "             count         mean         std     min     25%     50%     75%  \\\n",
       "duration  202607.0     6.755887    5.843365     0.0     1.3     6.0    10.7   \n",
       "user_id   202607.0  1253.940619  144.722751  1000.0  1126.0  1260.0  1379.0   \n",
       "\n",
       "             max  \n",
       "duration    38.0  \n",
       "user_id   1499.0  "
      ]
     },
     "metadata": {},
     "output_type": "display_data"
    },
    {
     "name": "stdout",
     "output_type": "stream",
     "text": [
      "\n",
      "===============================================================\n",
      "                         Dtypes: calls                          \n",
      "===============================================================\n",
      "    \n"
     ]
    },
    {
     "data": {
      "text/plain": [
       "id            object\n",
       "call_date     object\n",
       "duration     float64\n",
       "user_id        int64\n",
       "dtype: object"
      ]
     },
     "metadata": {},
     "output_type": "display_data"
    },
    {
     "name": "stdout",
     "output_type": "stream",
     "text": [
      "\n",
      "===============================================================\n",
      "                      DataFrame: internet                       \n",
      "===============================================================\n",
      "    \n"
     ]
    },
    {
     "data": {
      "text/html": [
       "<div>\n",
       "<style scoped>\n",
       "    .dataframe tbody tr th:only-of-type {\n",
       "        vertical-align: middle;\n",
       "    }\n",
       "\n",
       "    .dataframe tbody tr th {\n",
       "        vertical-align: top;\n",
       "    }\n",
       "\n",
       "    .dataframe thead th {\n",
       "        text-align: right;\n",
       "    }\n",
       "</style>\n",
       "<table border=\"1\" class=\"dataframe\">\n",
       "  <thead>\n",
       "    <tr style=\"text-align: right;\">\n",
       "      <th></th>\n",
       "      <th>Unnamed: 0</th>\n",
       "      <th>id</th>\n",
       "      <th>mb_used</th>\n",
       "      <th>session_date</th>\n",
       "      <th>user_id</th>\n",
       "    </tr>\n",
       "  </thead>\n",
       "  <tbody>\n",
       "    <tr>\n",
       "      <th>0</th>\n",
       "      <td>0</td>\n",
       "      <td>1000_0</td>\n",
       "      <td>112.95</td>\n",
       "      <td>2018-11-25</td>\n",
       "      <td>1000</td>\n",
       "    </tr>\n",
       "    <tr>\n",
       "      <th>1</th>\n",
       "      <td>1</td>\n",
       "      <td>1000_1</td>\n",
       "      <td>1052.81</td>\n",
       "      <td>2018-09-07</td>\n",
       "      <td>1000</td>\n",
       "    </tr>\n",
       "    <tr>\n",
       "      <th>2</th>\n",
       "      <td>2</td>\n",
       "      <td>1000_2</td>\n",
       "      <td>1197.26</td>\n",
       "      <td>2018-06-25</td>\n",
       "      <td>1000</td>\n",
       "    </tr>\n",
       "    <tr>\n",
       "      <th>3</th>\n",
       "      <td>3</td>\n",
       "      <td>1000_3</td>\n",
       "      <td>550.27</td>\n",
       "      <td>2018-08-22</td>\n",
       "      <td>1000</td>\n",
       "    </tr>\n",
       "    <tr>\n",
       "      <th>4</th>\n",
       "      <td>4</td>\n",
       "      <td>1000_4</td>\n",
       "      <td>302.56</td>\n",
       "      <td>2018-09-24</td>\n",
       "      <td>1000</td>\n",
       "    </tr>\n",
       "    <tr>\n",
       "      <th>...</th>\n",
       "      <td>...</td>\n",
       "      <td>...</td>\n",
       "      <td>...</td>\n",
       "      <td>...</td>\n",
       "      <td>...</td>\n",
       "    </tr>\n",
       "    <tr>\n",
       "      <th>149391</th>\n",
       "      <td>149391</td>\n",
       "      <td>1499_152</td>\n",
       "      <td>318.90</td>\n",
       "      <td>2018-10-03</td>\n",
       "      <td>1499</td>\n",
       "    </tr>\n",
       "    <tr>\n",
       "      <th>149392</th>\n",
       "      <td>149392</td>\n",
       "      <td>1499_153</td>\n",
       "      <td>490.13</td>\n",
       "      <td>2018-12-14</td>\n",
       "      <td>1499</td>\n",
       "    </tr>\n",
       "    <tr>\n",
       "      <th>149393</th>\n",
       "      <td>149393</td>\n",
       "      <td>1499_154</td>\n",
       "      <td>0.00</td>\n",
       "      <td>2018-10-27</td>\n",
       "      <td>1499</td>\n",
       "    </tr>\n",
       "    <tr>\n",
       "      <th>149394</th>\n",
       "      <td>149394</td>\n",
       "      <td>1499_155</td>\n",
       "      <td>1246.32</td>\n",
       "      <td>2018-11-26</td>\n",
       "      <td>1499</td>\n",
       "    </tr>\n",
       "    <tr>\n",
       "      <th>149395</th>\n",
       "      <td>149395</td>\n",
       "      <td>1499_156</td>\n",
       "      <td>544.37</td>\n",
       "      <td>2018-10-26</td>\n",
       "      <td>1499</td>\n",
       "    </tr>\n",
       "  </tbody>\n",
       "</table>\n",
       "<p>149396 rows × 5 columns</p>\n",
       "</div>"
      ],
      "text/plain": [
       "        Unnamed: 0        id  mb_used session_date  user_id\n",
       "0                0    1000_0   112.95   2018-11-25     1000\n",
       "1                1    1000_1  1052.81   2018-09-07     1000\n",
       "2                2    1000_2  1197.26   2018-06-25     1000\n",
       "3                3    1000_3   550.27   2018-08-22     1000\n",
       "4                4    1000_4   302.56   2018-09-24     1000\n",
       "...            ...       ...      ...          ...      ...\n",
       "149391      149391  1499_152   318.90   2018-10-03     1499\n",
       "149392      149392  1499_153   490.13   2018-12-14     1499\n",
       "149393      149393  1499_154     0.00   2018-10-27     1499\n",
       "149394      149394  1499_155  1246.32   2018-11-26     1499\n",
       "149395      149395  1499_156   544.37   2018-10-26     1499\n",
       "\n",
       "[149396 rows x 5 columns]"
      ]
     },
     "metadata": {},
     "output_type": "display_data"
    },
    {
     "name": "stdout",
     "output_type": "stream",
     "text": [
      "\n",
      "===============================================================\n",
      "                         Info: internet                         \n",
      "===============================================================\n",
      "    \n",
      "<class 'pandas.core.frame.DataFrame'>\n",
      "RangeIndex: 149396 entries, 0 to 149395\n",
      "Data columns (total 5 columns):\n",
      " #   Column        Non-Null Count   Dtype  \n",
      "---  ------        --------------   -----  \n",
      " 0   Unnamed: 0    149396 non-null  int64  \n",
      " 1   id            149396 non-null  object \n",
      " 2   mb_used       149396 non-null  float64\n",
      " 3   session_date  149396 non-null  object \n",
      " 4   user_id       149396 non-null  int64  \n",
      "dtypes: float64(1), int64(2), object(2)\n",
      "memory usage: 5.7+ MB\n"
     ]
    },
    {
     "data": {
      "text/plain": [
       "None"
      ]
     },
     "metadata": {},
     "output_type": "display_data"
    },
    {
     "name": "stdout",
     "output_type": "stream",
     "text": [
      "\n",
      "===============================================================\n",
      "                       Describe: internet                       \n",
      "===============================================================\n",
      "    \n"
     ]
    },
    {
     "data": {
      "text/html": [
       "<div>\n",
       "<style scoped>\n",
       "    .dataframe tbody tr th:only-of-type {\n",
       "        vertical-align: middle;\n",
       "    }\n",
       "\n",
       "    .dataframe tbody tr th {\n",
       "        vertical-align: top;\n",
       "    }\n",
       "\n",
       "    .dataframe thead th {\n",
       "        text-align: right;\n",
       "    }\n",
       "</style>\n",
       "<table border=\"1\" class=\"dataframe\">\n",
       "  <thead>\n",
       "    <tr style=\"text-align: right;\">\n",
       "      <th></th>\n",
       "      <th>count</th>\n",
       "      <th>mean</th>\n",
       "      <th>std</th>\n",
       "      <th>min</th>\n",
       "      <th>25%</th>\n",
       "      <th>50%</th>\n",
       "      <th>75%</th>\n",
       "      <th>max</th>\n",
       "    </tr>\n",
       "  </thead>\n",
       "  <tbody>\n",
       "    <tr>\n",
       "      <th>Unnamed: 0</th>\n",
       "      <td>149396.0</td>\n",
       "      <td>74697.500000</td>\n",
       "      <td>43127.054745</td>\n",
       "      <td>0.0</td>\n",
       "      <td>37348.7500</td>\n",
       "      <td>74697.500</td>\n",
       "      <td>112046.2500</td>\n",
       "      <td>149395.00</td>\n",
       "    </tr>\n",
       "    <tr>\n",
       "      <th>mb_used</th>\n",
       "      <td>149396.0</td>\n",
       "      <td>370.192426</td>\n",
       "      <td>278.300951</td>\n",
       "      <td>0.0</td>\n",
       "      <td>138.1875</td>\n",
       "      <td>348.015</td>\n",
       "      <td>559.5525</td>\n",
       "      <td>1724.83</td>\n",
       "    </tr>\n",
       "    <tr>\n",
       "      <th>user_id</th>\n",
       "      <td>149396.0</td>\n",
       "      <td>1252.099842</td>\n",
       "      <td>144.050823</td>\n",
       "      <td>1000.0</td>\n",
       "      <td>1130.0000</td>\n",
       "      <td>1251.000</td>\n",
       "      <td>1380.0000</td>\n",
       "      <td>1499.00</td>\n",
       "    </tr>\n",
       "  </tbody>\n",
       "</table>\n",
       "</div>"
      ],
      "text/plain": [
       "               count          mean           std     min         25%  \\\n",
       "Unnamed: 0  149396.0  74697.500000  43127.054745     0.0  37348.7500   \n",
       "mb_used     149396.0    370.192426    278.300951     0.0    138.1875   \n",
       "user_id     149396.0   1252.099842    144.050823  1000.0   1130.0000   \n",
       "\n",
       "                  50%          75%        max  \n",
       "Unnamed: 0  74697.500  112046.2500  149395.00  \n",
       "mb_used       348.015     559.5525    1724.83  \n",
       "user_id      1251.000    1380.0000    1499.00  "
      ]
     },
     "metadata": {},
     "output_type": "display_data"
    },
    {
     "name": "stdout",
     "output_type": "stream",
     "text": [
      "\n",
      "===============================================================\n",
      "                        Dtypes: internet                        \n",
      "===============================================================\n",
      "    \n"
     ]
    },
    {
     "data": {
      "text/plain": [
       "Unnamed: 0        int64\n",
       "id               object\n",
       "mb_used         float64\n",
       "session_date     object\n",
       "user_id           int64\n",
       "dtype: object"
      ]
     },
     "metadata": {},
     "output_type": "display_data"
    },
    {
     "name": "stdout",
     "output_type": "stream",
     "text": [
      "\n",
      "===============================================================\n",
      "                      DataFrame: messages                       \n",
      "===============================================================\n",
      "    \n"
     ]
    },
    {
     "data": {
      "text/html": [
       "<div>\n",
       "<style scoped>\n",
       "    .dataframe tbody tr th:only-of-type {\n",
       "        vertical-align: middle;\n",
       "    }\n",
       "\n",
       "    .dataframe tbody tr th {\n",
       "        vertical-align: top;\n",
       "    }\n",
       "\n",
       "    .dataframe thead th {\n",
       "        text-align: right;\n",
       "    }\n",
       "</style>\n",
       "<table border=\"1\" class=\"dataframe\">\n",
       "  <thead>\n",
       "    <tr style=\"text-align: right;\">\n",
       "      <th></th>\n",
       "      <th>id</th>\n",
       "      <th>message_date</th>\n",
       "      <th>user_id</th>\n",
       "    </tr>\n",
       "  </thead>\n",
       "  <tbody>\n",
       "    <tr>\n",
       "      <th>0</th>\n",
       "      <td>1000_0</td>\n",
       "      <td>2018-06-27</td>\n",
       "      <td>1000</td>\n",
       "    </tr>\n",
       "    <tr>\n",
       "      <th>1</th>\n",
       "      <td>1000_1</td>\n",
       "      <td>2018-10-08</td>\n",
       "      <td>1000</td>\n",
       "    </tr>\n",
       "    <tr>\n",
       "      <th>2</th>\n",
       "      <td>1000_2</td>\n",
       "      <td>2018-08-04</td>\n",
       "      <td>1000</td>\n",
       "    </tr>\n",
       "    <tr>\n",
       "      <th>3</th>\n",
       "      <td>1000_3</td>\n",
       "      <td>2018-06-16</td>\n",
       "      <td>1000</td>\n",
       "    </tr>\n",
       "    <tr>\n",
       "      <th>4</th>\n",
       "      <td>1000_4</td>\n",
       "      <td>2018-12-05</td>\n",
       "      <td>1000</td>\n",
       "    </tr>\n",
       "    <tr>\n",
       "      <th>...</th>\n",
       "      <td>...</td>\n",
       "      <td>...</td>\n",
       "      <td>...</td>\n",
       "    </tr>\n",
       "    <tr>\n",
       "      <th>123031</th>\n",
       "      <td>1499_179</td>\n",
       "      <td>2018-12-12</td>\n",
       "      <td>1499</td>\n",
       "    </tr>\n",
       "    <tr>\n",
       "      <th>123032</th>\n",
       "      <td>1499_180</td>\n",
       "      <td>2018-09-28</td>\n",
       "      <td>1499</td>\n",
       "    </tr>\n",
       "    <tr>\n",
       "      <th>123033</th>\n",
       "      <td>1499_181</td>\n",
       "      <td>2018-09-27</td>\n",
       "      <td>1499</td>\n",
       "    </tr>\n",
       "    <tr>\n",
       "      <th>123034</th>\n",
       "      <td>1499_182</td>\n",
       "      <td>2018-11-15</td>\n",
       "      <td>1499</td>\n",
       "    </tr>\n",
       "    <tr>\n",
       "      <th>123035</th>\n",
       "      <td>1499_183</td>\n",
       "      <td>2018-11-16</td>\n",
       "      <td>1499</td>\n",
       "    </tr>\n",
       "  </tbody>\n",
       "</table>\n",
       "<p>123036 rows × 3 columns</p>\n",
       "</div>"
      ],
      "text/plain": [
       "              id message_date  user_id\n",
       "0         1000_0   2018-06-27     1000\n",
       "1         1000_1   2018-10-08     1000\n",
       "2         1000_2   2018-08-04     1000\n",
       "3         1000_3   2018-06-16     1000\n",
       "4         1000_4   2018-12-05     1000\n",
       "...          ...          ...      ...\n",
       "123031  1499_179   2018-12-12     1499\n",
       "123032  1499_180   2018-09-28     1499\n",
       "123033  1499_181   2018-09-27     1499\n",
       "123034  1499_182   2018-11-15     1499\n",
       "123035  1499_183   2018-11-16     1499\n",
       "\n",
       "[123036 rows x 3 columns]"
      ]
     },
     "metadata": {},
     "output_type": "display_data"
    },
    {
     "name": "stdout",
     "output_type": "stream",
     "text": [
      "\n",
      "===============================================================\n",
      "                         Info: messages                         \n",
      "===============================================================\n",
      "    \n",
      "<class 'pandas.core.frame.DataFrame'>\n",
      "RangeIndex: 123036 entries, 0 to 123035\n",
      "Data columns (total 3 columns):\n",
      " #   Column        Non-Null Count   Dtype \n",
      "---  ------        --------------   ----- \n",
      " 0   id            123036 non-null  object\n",
      " 1   message_date  123036 non-null  object\n",
      " 2   user_id       123036 non-null  int64 \n",
      "dtypes: int64(1), object(2)\n",
      "memory usage: 2.8+ MB\n"
     ]
    },
    {
     "data": {
      "text/plain": [
       "None"
      ]
     },
     "metadata": {},
     "output_type": "display_data"
    },
    {
     "name": "stdout",
     "output_type": "stream",
     "text": [
      "\n",
      "===============================================================\n",
      "                       Describe: messages                       \n",
      "===============================================================\n",
      "    \n"
     ]
    },
    {
     "data": {
      "text/html": [
       "<div>\n",
       "<style scoped>\n",
       "    .dataframe tbody tr th:only-of-type {\n",
       "        vertical-align: middle;\n",
       "    }\n",
       "\n",
       "    .dataframe tbody tr th {\n",
       "        vertical-align: top;\n",
       "    }\n",
       "\n",
       "    .dataframe thead th {\n",
       "        text-align: right;\n",
       "    }\n",
       "</style>\n",
       "<table border=\"1\" class=\"dataframe\">\n",
       "  <thead>\n",
       "    <tr style=\"text-align: right;\">\n",
       "      <th></th>\n",
       "      <th>count</th>\n",
       "      <th>mean</th>\n",
       "      <th>std</th>\n",
       "      <th>min</th>\n",
       "      <th>25%</th>\n",
       "      <th>50%</th>\n",
       "      <th>75%</th>\n",
       "      <th>max</th>\n",
       "    </tr>\n",
       "  </thead>\n",
       "  <tbody>\n",
       "    <tr>\n",
       "      <th>user_id</th>\n",
       "      <td>123036.0</td>\n",
       "      <td>1256.98941</td>\n",
       "      <td>143.523967</td>\n",
       "      <td>1000.0</td>\n",
       "      <td>1134.0</td>\n",
       "      <td>1271.0</td>\n",
       "      <td>1381.0</td>\n",
       "      <td>1499.0</td>\n",
       "    </tr>\n",
       "  </tbody>\n",
       "</table>\n",
       "</div>"
      ],
      "text/plain": [
       "            count        mean         std     min     25%     50%     75%  \\\n",
       "user_id  123036.0  1256.98941  143.523967  1000.0  1134.0  1271.0  1381.0   \n",
       "\n",
       "            max  \n",
       "user_id  1499.0  "
      ]
     },
     "metadata": {},
     "output_type": "display_data"
    },
    {
     "name": "stdout",
     "output_type": "stream",
     "text": [
      "\n",
      "===============================================================\n",
      "                        Dtypes: messages                        \n",
      "===============================================================\n",
      "    \n"
     ]
    },
    {
     "data": {
      "text/plain": [
       "id              object\n",
       "message_date    object\n",
       "user_id          int64\n",
       "dtype: object"
      ]
     },
     "metadata": {},
     "output_type": "display_data"
    },
    {
     "name": "stdout",
     "output_type": "stream",
     "text": [
      "\n",
      "===============================================================\n",
      "                       DataFrame: tariffs                       \n",
      "===============================================================\n",
      "    \n"
     ]
    },
    {
     "data": {
      "text/html": [
       "<div>\n",
       "<style scoped>\n",
       "    .dataframe tbody tr th:only-of-type {\n",
       "        vertical-align: middle;\n",
       "    }\n",
       "\n",
       "    .dataframe tbody tr th {\n",
       "        vertical-align: top;\n",
       "    }\n",
       "\n",
       "    .dataframe thead th {\n",
       "        text-align: right;\n",
       "    }\n",
       "</style>\n",
       "<table border=\"1\" class=\"dataframe\">\n",
       "  <thead>\n",
       "    <tr style=\"text-align: right;\">\n",
       "      <th></th>\n",
       "      <th>messages_included</th>\n",
       "      <th>mb_per_month_included</th>\n",
       "      <th>minutes_included</th>\n",
       "      <th>rub_monthly_fee</th>\n",
       "      <th>rub_per_gb</th>\n",
       "      <th>rub_per_message</th>\n",
       "      <th>rub_per_minute</th>\n",
       "      <th>tariff_name</th>\n",
       "    </tr>\n",
       "  </thead>\n",
       "  <tbody>\n",
       "    <tr>\n",
       "      <th>0</th>\n",
       "      <td>50</td>\n",
       "      <td>15360</td>\n",
       "      <td>500</td>\n",
       "      <td>550</td>\n",
       "      <td>200</td>\n",
       "      <td>3</td>\n",
       "      <td>3</td>\n",
       "      <td>smart</td>\n",
       "    </tr>\n",
       "    <tr>\n",
       "      <th>1</th>\n",
       "      <td>1000</td>\n",
       "      <td>30720</td>\n",
       "      <td>3000</td>\n",
       "      <td>1950</td>\n",
       "      <td>150</td>\n",
       "      <td>1</td>\n",
       "      <td>1</td>\n",
       "      <td>ultra</td>\n",
       "    </tr>\n",
       "  </tbody>\n",
       "</table>\n",
       "</div>"
      ],
      "text/plain": [
       "   messages_included  mb_per_month_included  minutes_included  \\\n",
       "0                 50                  15360               500   \n",
       "1               1000                  30720              3000   \n",
       "\n",
       "   rub_monthly_fee  rub_per_gb  rub_per_message  rub_per_minute tariff_name  \n",
       "0              550         200                3               3       smart  \n",
       "1             1950         150                1               1       ultra  "
      ]
     },
     "metadata": {},
     "output_type": "display_data"
    },
    {
     "name": "stdout",
     "output_type": "stream",
     "text": [
      "\n",
      "===============================================================\n",
      "                         Info: tariffs                          \n",
      "===============================================================\n",
      "    \n",
      "<class 'pandas.core.frame.DataFrame'>\n",
      "RangeIndex: 2 entries, 0 to 1\n",
      "Data columns (total 8 columns):\n",
      " #   Column                 Non-Null Count  Dtype \n",
      "---  ------                 --------------  ----- \n",
      " 0   messages_included      2 non-null      int64 \n",
      " 1   mb_per_month_included  2 non-null      int64 \n",
      " 2   minutes_included       2 non-null      int64 \n",
      " 3   rub_monthly_fee        2 non-null      int64 \n",
      " 4   rub_per_gb             2 non-null      int64 \n",
      " 5   rub_per_message        2 non-null      int64 \n",
      " 6   rub_per_minute         2 non-null      int64 \n",
      " 7   tariff_name            2 non-null      object\n",
      "dtypes: int64(7), object(1)\n",
      "memory usage: 256.0+ bytes\n"
     ]
    },
    {
     "data": {
      "text/plain": [
       "None"
      ]
     },
     "metadata": {},
     "output_type": "display_data"
    },
    {
     "name": "stdout",
     "output_type": "stream",
     "text": [
      "\n",
      "===============================================================\n",
      "                       Describe: tariffs                        \n",
      "===============================================================\n",
      "    \n"
     ]
    },
    {
     "data": {
      "text/html": [
       "<div>\n",
       "<style scoped>\n",
       "    .dataframe tbody tr th:only-of-type {\n",
       "        vertical-align: middle;\n",
       "    }\n",
       "\n",
       "    .dataframe tbody tr th {\n",
       "        vertical-align: top;\n",
       "    }\n",
       "\n",
       "    .dataframe thead th {\n",
       "        text-align: right;\n",
       "    }\n",
       "</style>\n",
       "<table border=\"1\" class=\"dataframe\">\n",
       "  <thead>\n",
       "    <tr style=\"text-align: right;\">\n",
       "      <th></th>\n",
       "      <th>count</th>\n",
       "      <th>mean</th>\n",
       "      <th>std</th>\n",
       "      <th>min</th>\n",
       "      <th>25%</th>\n",
       "      <th>50%</th>\n",
       "      <th>75%</th>\n",
       "      <th>max</th>\n",
       "    </tr>\n",
       "  </thead>\n",
       "  <tbody>\n",
       "    <tr>\n",
       "      <th>messages_included</th>\n",
       "      <td>2.0</td>\n",
       "      <td>525.0</td>\n",
       "      <td>671.751442</td>\n",
       "      <td>50.0</td>\n",
       "      <td>287.5</td>\n",
       "      <td>525.0</td>\n",
       "      <td>762.5</td>\n",
       "      <td>1000.0</td>\n",
       "    </tr>\n",
       "    <tr>\n",
       "      <th>mb_per_month_included</th>\n",
       "      <td>2.0</td>\n",
       "      <td>23040.0</td>\n",
       "      <td>10861.160159</td>\n",
       "      <td>15360.0</td>\n",
       "      <td>19200.0</td>\n",
       "      <td>23040.0</td>\n",
       "      <td>26880.0</td>\n",
       "      <td>30720.0</td>\n",
       "    </tr>\n",
       "    <tr>\n",
       "      <th>minutes_included</th>\n",
       "      <td>2.0</td>\n",
       "      <td>1750.0</td>\n",
       "      <td>1767.766953</td>\n",
       "      <td>500.0</td>\n",
       "      <td>1125.0</td>\n",
       "      <td>1750.0</td>\n",
       "      <td>2375.0</td>\n",
       "      <td>3000.0</td>\n",
       "    </tr>\n",
       "    <tr>\n",
       "      <th>rub_monthly_fee</th>\n",
       "      <td>2.0</td>\n",
       "      <td>1250.0</td>\n",
       "      <td>989.949494</td>\n",
       "      <td>550.0</td>\n",
       "      <td>900.0</td>\n",
       "      <td>1250.0</td>\n",
       "      <td>1600.0</td>\n",
       "      <td>1950.0</td>\n",
       "    </tr>\n",
       "    <tr>\n",
       "      <th>rub_per_gb</th>\n",
       "      <td>2.0</td>\n",
       "      <td>175.0</td>\n",
       "      <td>35.355339</td>\n",
       "      <td>150.0</td>\n",
       "      <td>162.5</td>\n",
       "      <td>175.0</td>\n",
       "      <td>187.5</td>\n",
       "      <td>200.0</td>\n",
       "    </tr>\n",
       "    <tr>\n",
       "      <th>rub_per_message</th>\n",
       "      <td>2.0</td>\n",
       "      <td>2.0</td>\n",
       "      <td>1.414214</td>\n",
       "      <td>1.0</td>\n",
       "      <td>1.5</td>\n",
       "      <td>2.0</td>\n",
       "      <td>2.5</td>\n",
       "      <td>3.0</td>\n",
       "    </tr>\n",
       "    <tr>\n",
       "      <th>rub_per_minute</th>\n",
       "      <td>2.0</td>\n",
       "      <td>2.0</td>\n",
       "      <td>1.414214</td>\n",
       "      <td>1.0</td>\n",
       "      <td>1.5</td>\n",
       "      <td>2.0</td>\n",
       "      <td>2.5</td>\n",
       "      <td>3.0</td>\n",
       "    </tr>\n",
       "  </tbody>\n",
       "</table>\n",
       "</div>"
      ],
      "text/plain": [
       "                       count     mean           std      min      25%  \\\n",
       "messages_included        2.0    525.0    671.751442     50.0    287.5   \n",
       "mb_per_month_included    2.0  23040.0  10861.160159  15360.0  19200.0   \n",
       "minutes_included         2.0   1750.0   1767.766953    500.0   1125.0   \n",
       "rub_monthly_fee          2.0   1250.0    989.949494    550.0    900.0   \n",
       "rub_per_gb               2.0    175.0     35.355339    150.0    162.5   \n",
       "rub_per_message          2.0      2.0      1.414214      1.0      1.5   \n",
       "rub_per_minute           2.0      2.0      1.414214      1.0      1.5   \n",
       "\n",
       "                           50%      75%      max  \n",
       "messages_included        525.0    762.5   1000.0  \n",
       "mb_per_month_included  23040.0  26880.0  30720.0  \n",
       "minutes_included        1750.0   2375.0   3000.0  \n",
       "rub_monthly_fee         1250.0   1600.0   1950.0  \n",
       "rub_per_gb               175.0    187.5    200.0  \n",
       "rub_per_message            2.0      2.5      3.0  \n",
       "rub_per_minute             2.0      2.5      3.0  "
      ]
     },
     "metadata": {},
     "output_type": "display_data"
    },
    {
     "name": "stdout",
     "output_type": "stream",
     "text": [
      "\n",
      "===============================================================\n",
      "                        Dtypes: tariffs                         \n",
      "===============================================================\n",
      "    \n"
     ]
    },
    {
     "data": {
      "text/plain": [
       "messages_included         int64\n",
       "mb_per_month_included     int64\n",
       "minutes_included          int64\n",
       "rub_monthly_fee           int64\n",
       "rub_per_gb                int64\n",
       "rub_per_message           int64\n",
       "rub_per_minute            int64\n",
       "tariff_name              object\n",
       "dtype: object"
      ]
     },
     "metadata": {},
     "output_type": "display_data"
    },
    {
     "name": "stdout",
     "output_type": "stream",
     "text": [
      "\n",
      "===============================================================\n",
      "                        DataFrame: users                        \n",
      "===============================================================\n",
      "    \n"
     ]
    },
    {
     "data": {
      "text/html": [
       "<div>\n",
       "<style scoped>\n",
       "    .dataframe tbody tr th:only-of-type {\n",
       "        vertical-align: middle;\n",
       "    }\n",
       "\n",
       "    .dataframe tbody tr th {\n",
       "        vertical-align: top;\n",
       "    }\n",
       "\n",
       "    .dataframe thead th {\n",
       "        text-align: right;\n",
       "    }\n",
       "</style>\n",
       "<table border=\"1\" class=\"dataframe\">\n",
       "  <thead>\n",
       "    <tr style=\"text-align: right;\">\n",
       "      <th></th>\n",
       "      <th>user_id</th>\n",
       "      <th>age</th>\n",
       "      <th>churn_date</th>\n",
       "      <th>city</th>\n",
       "      <th>first_name</th>\n",
       "      <th>last_name</th>\n",
       "      <th>reg_date</th>\n",
       "      <th>tariff</th>\n",
       "    </tr>\n",
       "  </thead>\n",
       "  <tbody>\n",
       "    <tr>\n",
       "      <th>0</th>\n",
       "      <td>1000</td>\n",
       "      <td>52</td>\n",
       "      <td>NaN</td>\n",
       "      <td>Краснодар</td>\n",
       "      <td>Рафаил</td>\n",
       "      <td>Верещагин</td>\n",
       "      <td>2018-05-25</td>\n",
       "      <td>ultra</td>\n",
       "    </tr>\n",
       "    <tr>\n",
       "      <th>1</th>\n",
       "      <td>1001</td>\n",
       "      <td>41</td>\n",
       "      <td>NaN</td>\n",
       "      <td>Москва</td>\n",
       "      <td>Иван</td>\n",
       "      <td>Ежов</td>\n",
       "      <td>2018-11-01</td>\n",
       "      <td>smart</td>\n",
       "    </tr>\n",
       "    <tr>\n",
       "      <th>2</th>\n",
       "      <td>1002</td>\n",
       "      <td>59</td>\n",
       "      <td>NaN</td>\n",
       "      <td>Стерлитамак</td>\n",
       "      <td>Евгений</td>\n",
       "      <td>Абрамович</td>\n",
       "      <td>2018-06-17</td>\n",
       "      <td>smart</td>\n",
       "    </tr>\n",
       "    <tr>\n",
       "      <th>3</th>\n",
       "      <td>1003</td>\n",
       "      <td>23</td>\n",
       "      <td>NaN</td>\n",
       "      <td>Москва</td>\n",
       "      <td>Белла</td>\n",
       "      <td>Белякова</td>\n",
       "      <td>2018-08-17</td>\n",
       "      <td>ultra</td>\n",
       "    </tr>\n",
       "    <tr>\n",
       "      <th>4</th>\n",
       "      <td>1004</td>\n",
       "      <td>68</td>\n",
       "      <td>NaN</td>\n",
       "      <td>Новокузнецк</td>\n",
       "      <td>Татьяна</td>\n",
       "      <td>Авдеенко</td>\n",
       "      <td>2018-05-14</td>\n",
       "      <td>ultra</td>\n",
       "    </tr>\n",
       "    <tr>\n",
       "      <th>...</th>\n",
       "      <td>...</td>\n",
       "      <td>...</td>\n",
       "      <td>...</td>\n",
       "      <td>...</td>\n",
       "      <td>...</td>\n",
       "      <td>...</td>\n",
       "      <td>...</td>\n",
       "      <td>...</td>\n",
       "    </tr>\n",
       "    <tr>\n",
       "      <th>495</th>\n",
       "      <td>1495</td>\n",
       "      <td>65</td>\n",
       "      <td>NaN</td>\n",
       "      <td>Иркутск</td>\n",
       "      <td>Авксентий</td>\n",
       "      <td>Фокин</td>\n",
       "      <td>2018-08-28</td>\n",
       "      <td>ultra</td>\n",
       "    </tr>\n",
       "    <tr>\n",
       "      <th>496</th>\n",
       "      <td>1496</td>\n",
       "      <td>36</td>\n",
       "      <td>NaN</td>\n",
       "      <td>Вологда</td>\n",
       "      <td>Трифон</td>\n",
       "      <td>Блохин</td>\n",
       "      <td>2018-01-27</td>\n",
       "      <td>smart</td>\n",
       "    </tr>\n",
       "    <tr>\n",
       "      <th>497</th>\n",
       "      <td>1497</td>\n",
       "      <td>32</td>\n",
       "      <td>NaN</td>\n",
       "      <td>Челябинск</td>\n",
       "      <td>Каролина</td>\n",
       "      <td>Агеева</td>\n",
       "      <td>2018-10-09</td>\n",
       "      <td>smart</td>\n",
       "    </tr>\n",
       "    <tr>\n",
       "      <th>498</th>\n",
       "      <td>1498</td>\n",
       "      <td>68</td>\n",
       "      <td>2018-10-25</td>\n",
       "      <td>Владикавказ</td>\n",
       "      <td>Всеволод</td>\n",
       "      <td>Акимчин</td>\n",
       "      <td>2018-07-19</td>\n",
       "      <td>smart</td>\n",
       "    </tr>\n",
       "    <tr>\n",
       "      <th>499</th>\n",
       "      <td>1499</td>\n",
       "      <td>35</td>\n",
       "      <td>NaN</td>\n",
       "      <td>Пермь</td>\n",
       "      <td>Гектор</td>\n",
       "      <td>Корнилов</td>\n",
       "      <td>2018-09-27</td>\n",
       "      <td>smart</td>\n",
       "    </tr>\n",
       "  </tbody>\n",
       "</table>\n",
       "<p>500 rows × 8 columns</p>\n",
       "</div>"
      ],
      "text/plain": [
       "     user_id  age  churn_date         city first_name  last_name    reg_date  \\\n",
       "0       1000   52         NaN    Краснодар     Рафаил  Верещагин  2018-05-25   \n",
       "1       1001   41         NaN       Москва       Иван       Ежов  2018-11-01   \n",
       "2       1002   59         NaN  Стерлитамак    Евгений  Абрамович  2018-06-17   \n",
       "3       1003   23         NaN       Москва      Белла   Белякова  2018-08-17   \n",
       "4       1004   68         NaN  Новокузнецк    Татьяна   Авдеенко  2018-05-14   \n",
       "..       ...  ...         ...          ...        ...        ...         ...   \n",
       "495     1495   65         NaN      Иркутск  Авксентий      Фокин  2018-08-28   \n",
       "496     1496   36         NaN      Вологда     Трифон     Блохин  2018-01-27   \n",
       "497     1497   32         NaN    Челябинск   Каролина     Агеева  2018-10-09   \n",
       "498     1498   68  2018-10-25  Владикавказ   Всеволод    Акимчин  2018-07-19   \n",
       "499     1499   35         NaN        Пермь     Гектор   Корнилов  2018-09-27   \n",
       "\n",
       "    tariff  \n",
       "0    ultra  \n",
       "1    smart  \n",
       "2    smart  \n",
       "3    ultra  \n",
       "4    ultra  \n",
       "..     ...  \n",
       "495  ultra  \n",
       "496  smart  \n",
       "497  smart  \n",
       "498  smart  \n",
       "499  smart  \n",
       "\n",
       "[500 rows x 8 columns]"
      ]
     },
     "metadata": {},
     "output_type": "display_data"
    },
    {
     "name": "stdout",
     "output_type": "stream",
     "text": [
      "\n",
      "===============================================================\n",
      "                          Info: users                           \n",
      "===============================================================\n",
      "    \n",
      "<class 'pandas.core.frame.DataFrame'>\n",
      "RangeIndex: 500 entries, 0 to 499\n",
      "Data columns (total 8 columns):\n",
      " #   Column      Non-Null Count  Dtype \n",
      "---  ------      --------------  ----- \n",
      " 0   user_id     500 non-null    int64 \n",
      " 1   age         500 non-null    int64 \n",
      " 2   churn_date  38 non-null     object\n",
      " 3   city        500 non-null    object\n",
      " 4   first_name  500 non-null    object\n",
      " 5   last_name   500 non-null    object\n",
      " 6   reg_date    500 non-null    object\n",
      " 7   tariff      500 non-null    object\n",
      "dtypes: int64(2), object(6)\n",
      "memory usage: 31.4+ KB\n"
     ]
    },
    {
     "data": {
      "text/plain": [
       "None"
      ]
     },
     "metadata": {},
     "output_type": "display_data"
    },
    {
     "name": "stdout",
     "output_type": "stream",
     "text": [
      "\n",
      "===============================================================\n",
      "                        Describe: users                         \n",
      "===============================================================\n",
      "    \n"
     ]
    },
    {
     "data": {
      "text/html": [
       "<div>\n",
       "<style scoped>\n",
       "    .dataframe tbody tr th:only-of-type {\n",
       "        vertical-align: middle;\n",
       "    }\n",
       "\n",
       "    .dataframe tbody tr th {\n",
       "        vertical-align: top;\n",
       "    }\n",
       "\n",
       "    .dataframe thead th {\n",
       "        text-align: right;\n",
       "    }\n",
       "</style>\n",
       "<table border=\"1\" class=\"dataframe\">\n",
       "  <thead>\n",
       "    <tr style=\"text-align: right;\">\n",
       "      <th></th>\n",
       "      <th>count</th>\n",
       "      <th>mean</th>\n",
       "      <th>std</th>\n",
       "      <th>min</th>\n",
       "      <th>25%</th>\n",
       "      <th>50%</th>\n",
       "      <th>75%</th>\n",
       "      <th>max</th>\n",
       "    </tr>\n",
       "  </thead>\n",
       "  <tbody>\n",
       "    <tr>\n",
       "      <th>user_id</th>\n",
       "      <td>500.0</td>\n",
       "      <td>1249.500</td>\n",
       "      <td>144.481833</td>\n",
       "      <td>1000.0</td>\n",
       "      <td>1124.75</td>\n",
       "      <td>1249.5</td>\n",
       "      <td>1374.25</td>\n",
       "      <td>1499.0</td>\n",
       "    </tr>\n",
       "    <tr>\n",
       "      <th>age</th>\n",
       "      <td>500.0</td>\n",
       "      <td>46.588</td>\n",
       "      <td>16.667630</td>\n",
       "      <td>18.0</td>\n",
       "      <td>32.00</td>\n",
       "      <td>46.0</td>\n",
       "      <td>62.00</td>\n",
       "      <td>75.0</td>\n",
       "    </tr>\n",
       "  </tbody>\n",
       "</table>\n",
       "</div>"
      ],
      "text/plain": [
       "         count      mean         std     min      25%     50%      75%     max\n",
       "user_id  500.0  1249.500  144.481833  1000.0  1124.75  1249.5  1374.25  1499.0\n",
       "age      500.0    46.588   16.667630    18.0    32.00    46.0    62.00    75.0"
      ]
     },
     "metadata": {},
     "output_type": "display_data"
    },
    {
     "name": "stdout",
     "output_type": "stream",
     "text": [
      "\n",
      "===============================================================\n",
      "                         Dtypes: users                          \n",
      "===============================================================\n",
      "    \n"
     ]
    },
    {
     "data": {
      "text/plain": [
       "user_id        int64\n",
       "age            int64\n",
       "churn_date    object\n",
       "city          object\n",
       "first_name    object\n",
       "last_name     object\n",
       "reg_date      object\n",
       "tariff        object\n",
       "dtype: object"
      ]
     },
     "metadata": {},
     "output_type": "display_data"
    }
   ],
   "source": [
    "df_dict = {'calls':calls, 'internet':internet, 'messages':messages, 'tariffs':tariffs, 'users':users}\n",
    "for name, df in tqdm(df_dict.items()):\n",
    "    brows_data(df, name)"
   ]
  },
  {
   "cell_type": "markdown",
   "metadata": {
    "id": "SpqJR9mlIRx4"
   },
   "source": [
    "### Выводы"
   ]
  },
  {
   "cell_type": "markdown",
   "metadata": {
    "id": "SjjT5dIUCFFi"
   },
   "source": [
    "После обзора данных, можно сделать следующие выводы:\n",
    "1. В столбцах таблиц `calls, internet, messages` есть как `user_id` - id конкретного пользователя, так и просто `id` - это конкретный пользователь с `user_id` + пордковый номер звонка/сообщения/траффика за день.\n",
    "2. Таблицы лучше объединять по столбцам `user_id` и `data`, чтобы найти траффик звонков/смс/интернета за месяц у конкретного пользователя.\n",
    "3. Столбец `data` преобразовать в тип данных datetime для удобства работы с датой и выделения месяца.\n",
    "4. Выбросов в данных нет, о чем нам говорят близкие значения mean и median.\n",
    "5. Судя по info пропуски имеются только в таблице `users`, где в `churn_date` есть Nan - значит тариф на момент выгрузки данных еще действовал.\n",
    "6. В `internet` есть побочный столбец `Unnamed: 0`, который повторно содержит индекс строк.\n"
   ]
  },
  {
   "cell_type": "markdown",
   "metadata": {
    "id": "AenW78mvpLV0"
   },
   "source": [
    "## 2. Подготовка данных"
   ]
  },
  {
   "cell_type": "markdown",
   "metadata": {
    "id": "PdKPgr2sY-Gq"
   },
   "source": [
    "### Получение даты"
   ]
  },
  {
   "cell_type": "markdown",
   "metadata": {
    "id": "6P5i2UwKIwK5"
   },
   "source": [
    "Приведем столбцы `date` в таблицах `calls, internet, messages` к типу данных `datetime` и выделим месяц в отдельный столбец `month`: "
   ]
  },
  {
   "cell_type": "code",
   "execution_count": 14,
   "metadata": {
    "id": "up52fZSmIwbo"
   },
   "outputs": [],
   "source": [
    "def return_month(data, column):\n",
    "    data['datetime'] = pd.to_datetime(data[column], format='%Y-%m-%d')\n",
    "    data['month'] = pd.DatetimeIndex(data['datetime']).month"
   ]
  },
  {
   "cell_type": "code",
   "execution_count": 15,
   "metadata": {
    "colab": {
     "base_uri": "https://localhost:8080/",
     "height": 0,
     "referenced_widgets": [
      "583c8483c91e41cc85e71bfd8453ccba",
      "481e87f34f2d4e70bf000fca80eaada1",
      "7cacf3ff6763482fa27d87aa2e687b34",
      "d3afa12634b4484e8979c92093d4e547",
      "2532251ac42545a5bcade65b8cb47950",
      "beb24bdc24624014a670dd5c648b2285",
      "90794462d02f438eb47f10877c7dce05",
      "702bd604dc51451f83edf283680c1809"
     ]
    },
    "id": "0nofQIib3ob_",
    "outputId": "d09247ec-710d-4fc1-d2d1-66a845ec762b"
   },
   "outputs": [
    {
     "data": {
      "application/vnd.jupyter.widget-view+json": {
       "model_id": "c1b46dd2de5540249fcd905f5200fb5c",
       "version_major": 2,
       "version_minor": 0
      },
      "text/plain": [
       "  0%|          | 0/3 [00:00<?, ?it/s]"
      ]
     },
     "metadata": {},
     "output_type": "display_data"
    }
   ],
   "source": [
    "columns_date = {'call_date':calls, 'session_date':internet, 'message_date':messages}\n",
    "for column, data in tqdm(columns_date.items()):\n",
    "    return_month(data, column)"
   ]
  },
  {
   "cell_type": "markdown",
   "metadata": {
    "id": "SrAvINttZCot"
   },
   "source": [
    "### Округление минут и мегабайтов"
   ]
  },
  {
   "cell_type": "markdown",
   "metadata": {
    "id": "9ozGp6hIYs6D"
   },
   "source": [
    "Округлим значения столбца `duration` в `calls` в большую сторону, т.к. компания звонки длительностью 1 секунду, засчитывает в тарифе как целую минуту. С мегабайтами аналогичная ситуация."
   ]
  },
  {
   "cell_type": "code",
   "execution_count": 16,
   "metadata": {
    "id": "Pk4E-G3uavnw"
   },
   "outputs": [],
   "source": [
    "calls['duration_rounded'] = np.ceil(calls['duration']).astype('int')"
   ]
  },
  {
   "cell_type": "code",
   "execution_count": 17,
   "metadata": {
    "id": "ELDeHe5mhk6s"
   },
   "outputs": [],
   "source": [
    "internet['mb_used_rounded'] = np.ceil(internet['mb_used']).astype('int')"
   ]
  },
  {
   "cell_type": "markdown",
   "metadata": {
    "id": "2iKkEMY9lQH4"
   },
   "source": [
    "### Проверка преобразований"
   ]
  },
  {
   "cell_type": "markdown",
   "metadata": {
    "id": "JtC8vcWDkOiW"
   },
   "source": [
    "Посмотрим, какие значения записались в столбцы"
   ]
  },
  {
   "cell_type": "code",
   "execution_count": 18,
   "metadata": {
    "id": "DvoL8vgLCRWq"
   },
   "outputs": [],
   "source": [
    "def view_head_tail(data, column):\n",
    "    print(f'Dataframe name: {data.name}')\n",
    "    display(data[column].value_counts().sort_index().head())\n",
    "    display(data[column].value_counts().sort_index().tail())\n",
    "    print('\\n')"
   ]
  },
  {
   "cell_type": "code",
   "execution_count": 19,
   "metadata": {
    "colab": {
     "base_uri": "https://localhost:8080/",
     "height": 0
    },
    "id": "7SQVD2bMjuT8",
    "outputId": "0f395601-666a-4b5a-8df0-cbbed74cf486"
   },
   "outputs": [
    {
     "name": "stdout",
     "output_type": "stream",
     "text": [
      "Dataframe name: calls\n"
     ]
    },
    {
     "data": {
      "text/plain": [
       "0    39613\n",
       "1     8402\n",
       "2     9194\n",
       "3    10362\n",
       "4    10918\n",
       "Name: duration_rounded, dtype: int64"
      ]
     },
     "metadata": {},
     "output_type": "display_data"
    },
    {
     "data": {
      "text/plain": [
       "34    3\n",
       "35    5\n",
       "36    2\n",
       "37    2\n",
       "38    2\n",
       "Name: duration_rounded, dtype: int64"
      ]
     },
     "metadata": {},
     "output_type": "display_data"
    },
    {
     "name": "stdout",
     "output_type": "stream",
     "text": [
      "\n",
      "\n",
      "Dataframe name: internet\n"
     ]
    },
    {
     "data": {
      "text/plain": [
       "0    19598\n",
       "1      102\n",
       "2       98\n",
       "3       96\n",
       "4      100\n",
       "Name: mb_used_rounded, dtype: int64"
      ]
     },
     "metadata": {},
     "output_type": "display_data"
    },
    {
     "data": {
      "text/plain": [
       "1610    1\n",
       "1624    1\n",
       "1652    2\n",
       "1703    1\n",
       "1725    1\n",
       "Name: mb_used_rounded, dtype: int64"
      ]
     },
     "metadata": {},
     "output_type": "display_data"
    },
    {
     "name": "stdout",
     "output_type": "stream",
     "text": [
      "\n",
      "\n"
     ]
    }
   ],
   "source": [
    "column_data = {'duration_rounded': calls, 'mb_used_rounded': internet}\n",
    "for column, data in column_data.items():\n",
    "    view_head_tail(data, column)"
   ]
  },
  {
   "cell_type": "markdown",
   "metadata": {
    "id": "k-LyS27n6TNb"
   },
   "source": [
    "Убедимся, что в наших таблицах создались нужные столбцы:"
   ]
  },
  {
   "cell_type": "code",
   "execution_count": 20,
   "metadata": {
    "colab": {
     "base_uri": "https://localhost:8080/",
     "height": 0
    },
    "id": "bBgw5WJl6HxB",
    "outputId": "f40fa13d-6ec7-4767-b5cd-d23329bed30b"
   },
   "outputs": [
    {
     "data": {
      "text/plain": [
       "Index(['id', 'call_date', 'duration', 'user_id', 'datetime', 'month',\n",
       "       'duration_rounded'],\n",
       "      dtype='object')"
      ]
     },
     "metadata": {},
     "output_type": "display_data"
    },
    {
     "data": {
      "text/plain": [
       "Index(['Unnamed: 0', 'id', 'mb_used', 'session_date', 'user_id', 'datetime',\n",
       "       'month', 'mb_used_rounded'],\n",
       "      dtype='object')"
      ]
     },
     "metadata": {},
     "output_type": "display_data"
    },
    {
     "data": {
      "text/plain": [
       "Index(['id', 'message_date', 'user_id', 'datetime', 'month'], dtype='object')"
      ]
     },
     "metadata": {},
     "output_type": "display_data"
    }
   ],
   "source": [
    "display(calls.columns, internet.columns, messages.columns)"
   ]
  },
  {
   "cell_type": "markdown",
   "metadata": {
    "id": "-u_LWbjslbij"
   },
   "source": [
    "### Заполнение пропусков"
   ]
  },
  {
   "cell_type": "markdown",
   "metadata": {
    "id": "vO_8gPFAViH0"
   },
   "source": [
    "Исправим пропущенные значения `churn_date` в таблице `users`, где есть Nan, чтобы адеватно это обработать, сделаем следующим образом.\n",
    "\n",
    "Создадим новый столбец `is_chern`, который будет хранить:\n",
    "* True - если пользователь прекратил пользоваться тарифом,\n",
    "* False - если пользователь еще пользуется тарифом на данный момент."
   ]
  },
  {
   "cell_type": "code",
   "execution_count": 21,
   "metadata": {
    "id": "8EkolvSWnq3Y"
   },
   "outputs": [],
   "source": [
    "users['churn_date'] = users['churn_date'].fillna(0)"
   ]
  },
  {
   "cell_type": "code",
   "execution_count": 22,
   "metadata": {
    "colab": {
     "base_uri": "https://localhost:8080/"
    },
    "id": "qRX6oXGEnzTt",
    "outputId": "b08d3b3c-6513-4bdd-a58d-889f16a46b8f"
   },
   "outputs": [
    {
     "data": {
      "text/plain": [
       "0"
      ]
     },
     "execution_count": 22,
     "metadata": {},
     "output_type": "execute_result"
    }
   ],
   "source": [
    "users['churn_date'].isnull().sum()"
   ]
  },
  {
   "cell_type": "code",
   "execution_count": 23,
   "metadata": {
    "id": "pKjItWMqViWy"
   },
   "outputs": [],
   "source": [
    "def is_chern(value):\n",
    "    if value == 0:\n",
    "        return False\n",
    "    return True"
   ]
  },
  {
   "cell_type": "code",
   "execution_count": 24,
   "metadata": {
    "colab": {
     "base_uri": "https://localhost:8080/",
     "height": 0,
     "referenced_widgets": [
      "ed359394a50d461880ed6d88b5ebe0da",
      "81f0dfb421bc4ec093cd879f32a6b56c",
      "15956552ee6f4129958c3809e8941246",
      "2f9e0587baf84155b62de69e0043af24",
      "1817587e9c3d491f88abf7dfba39497a",
      "d3689bfb12854bdea88ba33c6889cc14",
      "22319f507aff4fd09f94d3d41cc98193",
      "004b7b350e744e139c4fb55138b452a2"
     ]
    },
    "id": "fiZppawnoBjJ",
    "outputId": "1aa80b3f-f313-4fd1-f0c7-0fb6e34c4d29"
   },
   "outputs": [
    {
     "data": {
      "application/vnd.jupyter.widget-view+json": {
       "model_id": "e7d074a555f847bab42bcf15884132f1",
       "version_major": 2,
       "version_minor": 0
      },
      "text/plain": [
       "  0%|          | 0/500 [00:00<?, ?it/s]"
      ]
     },
     "metadata": {},
     "output_type": "display_data"
    }
   ],
   "source": [
    "users['is_chern']  = users['churn_date'].progress_apply(is_chern)"
   ]
  },
  {
   "cell_type": "code",
   "execution_count": 25,
   "metadata": {
    "colab": {
     "base_uri": "https://localhost:8080/"
    },
    "id": "YrmLUFb3oZDp",
    "outputId": "0642ae08-9918-44bc-ecb1-fdfcd02af527"
   },
   "outputs": [
    {
     "data": {
      "text/plain": [
       "False    462\n",
       "True      38\n",
       "Name: is_chern, dtype: int64"
      ]
     },
     "execution_count": 25,
     "metadata": {},
     "output_type": "execute_result"
    }
   ],
   "source": [
    "users['is_chern'].value_counts()"
   ]
  },
  {
   "cell_type": "markdown",
   "metadata": {
    "id": "ekE4QL-so67y"
   },
   "source": [
    "Получаем, что: \n",
    "* 462 пользователя еще пользуются тарифом, \n",
    "* 38 клиентов прекратили пользоваться тарифом."
   ]
  },
  {
   "cell_type": "markdown",
   "metadata": {
    "id": "aUEPOzet5Mc3"
   },
   "source": [
    "### Группировка данных"
   ]
  },
  {
   "cell_type": "markdown",
   "metadata": {
    "id": "rA6zCS2388dX"
   },
   "source": [
    "Создадим функцию для удобной группировки данных"
   ]
  },
  {
   "cell_type": "code",
   "execution_count": 26,
   "metadata": {
    "id": "r-PQDTRf7yR6"
   },
   "outputs": [],
   "source": [
    "def view_pivot(data, values, index = ['user_id', 'month'], aggfunc = ['count', 'sum']):\n",
    "    return (data\n",
    "            .pivot_table(index = index, values=values, aggfunc=aggfunc)\n",
    "            .reset_index()\n",
    "            )"
   ]
  },
  {
   "cell_type": "markdown",
   "metadata": {
    "id": "7swTp97-7IPN"
   },
   "source": [
    "Посчитаем для каждого `user_id` количество сделанных звонков и израсходованных минут по месяцам:"
   ]
  },
  {
   "cell_type": "code",
   "execution_count": 27,
   "metadata": {
    "id": "24w66fXX5Qcc"
   },
   "outputs": [],
   "source": [
    "calls_pivot = view_pivot(calls, 'duration_rounded')"
   ]
  },
  {
   "cell_type": "code",
   "execution_count": 28,
   "metadata": {
    "colab": {
     "base_uri": "https://localhost:8080/",
     "height": 0
    },
    "id": "ZizIpvEV7MAI",
    "outputId": "d7cfe739-0460-4fcb-8da4-d18386e0eaf4"
   },
   "outputs": [
    {
     "data": {
      "text/html": [
       "<div>\n",
       "<style scoped>\n",
       "    .dataframe tbody tr th:only-of-type {\n",
       "        vertical-align: middle;\n",
       "    }\n",
       "\n",
       "    .dataframe tbody tr th {\n",
       "        vertical-align: top;\n",
       "    }\n",
       "\n",
       "    .dataframe thead th {\n",
       "        text-align: right;\n",
       "    }\n",
       "</style>\n",
       "<table border=\"1\" class=\"dataframe\">\n",
       "  <thead>\n",
       "    <tr style=\"text-align: right;\">\n",
       "      <th></th>\n",
       "      <th>user_id</th>\n",
       "      <th>month</th>\n",
       "      <th>calls_count</th>\n",
       "      <th>calls_sum</th>\n",
       "    </tr>\n",
       "  </thead>\n",
       "  <tbody>\n",
       "    <tr>\n",
       "      <th>0</th>\n",
       "      <td>1000</td>\n",
       "      <td>5</td>\n",
       "      <td>22</td>\n",
       "      <td>159</td>\n",
       "    </tr>\n",
       "    <tr>\n",
       "      <th>1</th>\n",
       "      <td>1000</td>\n",
       "      <td>6</td>\n",
       "      <td>43</td>\n",
       "      <td>172</td>\n",
       "    </tr>\n",
       "    <tr>\n",
       "      <th>2</th>\n",
       "      <td>1000</td>\n",
       "      <td>7</td>\n",
       "      <td>47</td>\n",
       "      <td>340</td>\n",
       "    </tr>\n",
       "    <tr>\n",
       "      <th>3</th>\n",
       "      <td>1000</td>\n",
       "      <td>8</td>\n",
       "      <td>52</td>\n",
       "      <td>408</td>\n",
       "    </tr>\n",
       "    <tr>\n",
       "      <th>4</th>\n",
       "      <td>1000</td>\n",
       "      <td>9</td>\n",
       "      <td>58</td>\n",
       "      <td>466</td>\n",
       "    </tr>\n",
       "    <tr>\n",
       "      <th>...</th>\n",
       "      <td>...</td>\n",
       "      <td>...</td>\n",
       "      <td>...</td>\n",
       "      <td>...</td>\n",
       "    </tr>\n",
       "    <tr>\n",
       "      <th>3169</th>\n",
       "      <td>1498</td>\n",
       "      <td>10</td>\n",
       "      <td>41</td>\n",
       "      <td>247</td>\n",
       "    </tr>\n",
       "    <tr>\n",
       "      <th>3170</th>\n",
       "      <td>1499</td>\n",
       "      <td>9</td>\n",
       "      <td>9</td>\n",
       "      <td>70</td>\n",
       "    </tr>\n",
       "    <tr>\n",
       "      <th>3171</th>\n",
       "      <td>1499</td>\n",
       "      <td>10</td>\n",
       "      <td>68</td>\n",
       "      <td>449</td>\n",
       "    </tr>\n",
       "    <tr>\n",
       "      <th>3172</th>\n",
       "      <td>1499</td>\n",
       "      <td>11</td>\n",
       "      <td>74</td>\n",
       "      <td>612</td>\n",
       "    </tr>\n",
       "    <tr>\n",
       "      <th>3173</th>\n",
       "      <td>1499</td>\n",
       "      <td>12</td>\n",
       "      <td>69</td>\n",
       "      <td>492</td>\n",
       "    </tr>\n",
       "  </tbody>\n",
       "</table>\n",
       "<p>3174 rows × 4 columns</p>\n",
       "</div>"
      ],
      "text/plain": [
       "      user_id  month  calls_count  calls_sum\n",
       "0        1000      5           22        159\n",
       "1        1000      6           43        172\n",
       "2        1000      7           47        340\n",
       "3        1000      8           52        408\n",
       "4        1000      9           58        466\n",
       "...       ...    ...          ...        ...\n",
       "3169     1498     10           41        247\n",
       "3170     1499      9            9         70\n",
       "3171     1499     10           68        449\n",
       "3172     1499     11           74        612\n",
       "3173     1499     12           69        492\n",
       "\n",
       "[3174 rows x 4 columns]"
      ]
     },
     "execution_count": 28,
     "metadata": {},
     "output_type": "execute_result"
    }
   ],
   "source": [
    "calls_pivot.columns = ['user_id', 'month', 'calls_count', 'calls_sum']\n",
    "calls_pivot"
   ]
  },
  {
   "cell_type": "markdown",
   "metadata": {
    "id": "JI_5wFDW_WBc"
   },
   "source": [
    "Подсчитаем количество отправленных сообщений `user_id` по месяцам"
   ]
  },
  {
   "cell_type": "code",
   "execution_count": 29,
   "metadata": {
    "id": "eCASpBP3-bwJ"
   },
   "outputs": [],
   "source": [
    "messages_pivot = view_pivot(messages, values='message_date', aggfunc='count')"
   ]
  },
  {
   "cell_type": "code",
   "execution_count": 30,
   "metadata": {
    "colab": {
     "base_uri": "https://localhost:8080/",
     "height": 0
    },
    "id": "ErCHx2sq-bj-",
    "outputId": "5bb694e2-43a2-4170-eb65-c2d9ea9f004b",
    "scrolled": false
   },
   "outputs": [
    {
     "data": {
      "text/html": [
       "<div>\n",
       "<style scoped>\n",
       "    .dataframe tbody tr th:only-of-type {\n",
       "        vertical-align: middle;\n",
       "    }\n",
       "\n",
       "    .dataframe tbody tr th {\n",
       "        vertical-align: top;\n",
       "    }\n",
       "\n",
       "    .dataframe thead th {\n",
       "        text-align: right;\n",
       "    }\n",
       "</style>\n",
       "<table border=\"1\" class=\"dataframe\">\n",
       "  <thead>\n",
       "    <tr style=\"text-align: right;\">\n",
       "      <th></th>\n",
       "      <th>user_id</th>\n",
       "      <th>month</th>\n",
       "      <th>messages_count</th>\n",
       "    </tr>\n",
       "  </thead>\n",
       "  <tbody>\n",
       "    <tr>\n",
       "      <th>0</th>\n",
       "      <td>1000</td>\n",
       "      <td>5</td>\n",
       "      <td>22</td>\n",
       "    </tr>\n",
       "    <tr>\n",
       "      <th>1</th>\n",
       "      <td>1000</td>\n",
       "      <td>6</td>\n",
       "      <td>60</td>\n",
       "    </tr>\n",
       "    <tr>\n",
       "      <th>2</th>\n",
       "      <td>1000</td>\n",
       "      <td>7</td>\n",
       "      <td>75</td>\n",
       "    </tr>\n",
       "    <tr>\n",
       "      <th>3</th>\n",
       "      <td>1000</td>\n",
       "      <td>8</td>\n",
       "      <td>81</td>\n",
       "    </tr>\n",
       "    <tr>\n",
       "      <th>4</th>\n",
       "      <td>1000</td>\n",
       "      <td>9</td>\n",
       "      <td>57</td>\n",
       "    </tr>\n",
       "    <tr>\n",
       "      <th>...</th>\n",
       "      <td>...</td>\n",
       "      <td>...</td>\n",
       "      <td>...</td>\n",
       "    </tr>\n",
       "    <tr>\n",
       "      <th>2712</th>\n",
       "      <td>1498</td>\n",
       "      <td>10</td>\n",
       "      <td>42</td>\n",
       "    </tr>\n",
       "    <tr>\n",
       "      <th>2713</th>\n",
       "      <td>1499</td>\n",
       "      <td>9</td>\n",
       "      <td>11</td>\n",
       "    </tr>\n",
       "    <tr>\n",
       "      <th>2714</th>\n",
       "      <td>1499</td>\n",
       "      <td>10</td>\n",
       "      <td>48</td>\n",
       "    </tr>\n",
       "    <tr>\n",
       "      <th>2715</th>\n",
       "      <td>1499</td>\n",
       "      <td>11</td>\n",
       "      <td>59</td>\n",
       "    </tr>\n",
       "    <tr>\n",
       "      <th>2716</th>\n",
       "      <td>1499</td>\n",
       "      <td>12</td>\n",
       "      <td>66</td>\n",
       "    </tr>\n",
       "  </tbody>\n",
       "</table>\n",
       "<p>2717 rows × 3 columns</p>\n",
       "</div>"
      ],
      "text/plain": [
       "      user_id  month  messages_count\n",
       "0        1000      5              22\n",
       "1        1000      6              60\n",
       "2        1000      7              75\n",
       "3        1000      8              81\n",
       "4        1000      9              57\n",
       "...       ...    ...             ...\n",
       "2712     1498     10              42\n",
       "2713     1499      9              11\n",
       "2714     1499     10              48\n",
       "2715     1499     11              59\n",
       "2716     1499     12              66\n",
       "\n",
       "[2717 rows x 3 columns]"
      ]
     },
     "execution_count": 30,
     "metadata": {},
     "output_type": "execute_result"
    }
   ],
   "source": [
    "messages_pivot.columns = ['user_id', 'month', 'messages_count']\n",
    "messages_pivot"
   ]
  },
  {
   "cell_type": "markdown",
   "metadata": {
    "id": "mZP1gfNVAAHK"
   },
   "source": [
    "Найдем объем израсходованного траффика `user_id` по месяцам:"
   ]
  },
  {
   "cell_type": "code",
   "execution_count": 31,
   "metadata": {
    "id": "zxQ091pt9CyY"
   },
   "outputs": [],
   "source": [
    "internet_pivot = view_pivot(internet, 'mb_used_rounded', aggfunc='sum')"
   ]
  },
  {
   "cell_type": "code",
   "execution_count": 32,
   "metadata": {
    "colab": {
     "base_uri": "https://localhost:8080/",
     "height": 0
    },
    "id": "YSTh53JT9Cpx",
    "outputId": "5b6aa80b-ca5f-405f-bb85-cbd6c06e7f3c"
   },
   "outputs": [
    {
     "data": {
      "text/html": [
       "<div>\n",
       "<style scoped>\n",
       "    .dataframe tbody tr th:only-of-type {\n",
       "        vertical-align: middle;\n",
       "    }\n",
       "\n",
       "    .dataframe tbody tr th {\n",
       "        vertical-align: top;\n",
       "    }\n",
       "\n",
       "    .dataframe thead th {\n",
       "        text-align: right;\n",
       "    }\n",
       "</style>\n",
       "<table border=\"1\" class=\"dataframe\">\n",
       "  <thead>\n",
       "    <tr style=\"text-align: right;\">\n",
       "      <th></th>\n",
       "      <th>user_id</th>\n",
       "      <th>month</th>\n",
       "      <th>mb_used_rounded</th>\n",
       "    </tr>\n",
       "  </thead>\n",
       "  <tbody>\n",
       "    <tr>\n",
       "      <th>0</th>\n",
       "      <td>1000</td>\n",
       "      <td>5</td>\n",
       "      <td>2256</td>\n",
       "    </tr>\n",
       "    <tr>\n",
       "      <th>1</th>\n",
       "      <td>1000</td>\n",
       "      <td>6</td>\n",
       "      <td>23257</td>\n",
       "    </tr>\n",
       "    <tr>\n",
       "      <th>2</th>\n",
       "      <td>1000</td>\n",
       "      <td>7</td>\n",
       "      <td>14016</td>\n",
       "    </tr>\n",
       "    <tr>\n",
       "      <th>3</th>\n",
       "      <td>1000</td>\n",
       "      <td>8</td>\n",
       "      <td>14070</td>\n",
       "    </tr>\n",
       "    <tr>\n",
       "      <th>4</th>\n",
       "      <td>1000</td>\n",
       "      <td>9</td>\n",
       "      <td>14581</td>\n",
       "    </tr>\n",
       "    <tr>\n",
       "      <th>...</th>\n",
       "      <td>...</td>\n",
       "      <td>...</td>\n",
       "      <td>...</td>\n",
       "    </tr>\n",
       "    <tr>\n",
       "      <th>3198</th>\n",
       "      <td>1498</td>\n",
       "      <td>10</td>\n",
       "      <td>20604</td>\n",
       "    </tr>\n",
       "    <tr>\n",
       "      <th>3199</th>\n",
       "      <td>1499</td>\n",
       "      <td>9</td>\n",
       "      <td>1848</td>\n",
       "    </tr>\n",
       "    <tr>\n",
       "      <th>3200</th>\n",
       "      <td>1499</td>\n",
       "      <td>10</td>\n",
       "      <td>17809</td>\n",
       "    </tr>\n",
       "    <tr>\n",
       "      <th>3201</th>\n",
       "      <td>1499</td>\n",
       "      <td>11</td>\n",
       "      <td>17984</td>\n",
       "    </tr>\n",
       "    <tr>\n",
       "      <th>3202</th>\n",
       "      <td>1499</td>\n",
       "      <td>12</td>\n",
       "      <td>13077</td>\n",
       "    </tr>\n",
       "  </tbody>\n",
       "</table>\n",
       "<p>3203 rows × 3 columns</p>\n",
       "</div>"
      ],
      "text/plain": [
       "      user_id  month  mb_used_rounded\n",
       "0        1000      5             2256\n",
       "1        1000      6            23257\n",
       "2        1000      7            14016\n",
       "3        1000      8            14070\n",
       "4        1000      9            14581\n",
       "...       ...    ...              ...\n",
       "3198     1498     10            20604\n",
       "3199     1499      9             1848\n",
       "3200     1499     10            17809\n",
       "3201     1499     11            17984\n",
       "3202     1499     12            13077\n",
       "\n",
       "[3203 rows x 3 columns]"
      ]
     },
     "execution_count": 32,
     "metadata": {},
     "output_type": "execute_result"
    }
   ],
   "source": [
    "internet_pivot"
   ]
  },
  {
   "cell_type": "markdown",
   "metadata": {
    "id": "VjXWzX2r_xga"
   },
   "source": [
    "Объединим данные таблицы в одну для удобства работы:"
   ]
  },
  {
   "cell_type": "code",
   "execution_count": 33,
   "metadata": {
    "id": "kAgtlZPQFLcz"
   },
   "outputs": [],
   "source": [
    "df = calls_pivot.merge(messages_pivot, on = ['user_id', 'month'], how = 'outer')"
   ]
  },
  {
   "cell_type": "code",
   "execution_count": 34,
   "metadata": {
    "id": "2P2MdiM5I0pF"
   },
   "outputs": [],
   "source": [
    "df = df.merge(internet_pivot, on = ['user_id', 'month'], how = 'outer')"
   ]
  },
  {
   "cell_type": "code",
   "execution_count": 35,
   "metadata": {
    "colab": {
     "base_uri": "https://localhost:8080/",
     "height": 0
    },
    "id": "qUJNUxOhJG-Z",
    "outputId": "4d8d61fb-3bb5-46f5-dade-1179fcb70f1d"
   },
   "outputs": [
    {
     "data": {
      "text/html": [
       "<div>\n",
       "<style scoped>\n",
       "    .dataframe tbody tr th:only-of-type {\n",
       "        vertical-align: middle;\n",
       "    }\n",
       "\n",
       "    .dataframe tbody tr th {\n",
       "        vertical-align: top;\n",
       "    }\n",
       "\n",
       "    .dataframe thead th {\n",
       "        text-align: right;\n",
       "    }\n",
       "</style>\n",
       "<table border=\"1\" class=\"dataframe\">\n",
       "  <thead>\n",
       "    <tr style=\"text-align: right;\">\n",
       "      <th></th>\n",
       "      <th>user_id</th>\n",
       "      <th>month</th>\n",
       "      <th>calls_count</th>\n",
       "      <th>calls_sum</th>\n",
       "      <th>messages_count</th>\n",
       "      <th>mb_used_rounded</th>\n",
       "    </tr>\n",
       "  </thead>\n",
       "  <tbody>\n",
       "    <tr>\n",
       "      <th>0</th>\n",
       "      <td>1000</td>\n",
       "      <td>5</td>\n",
       "      <td>22.0</td>\n",
       "      <td>159.0</td>\n",
       "      <td>22.0</td>\n",
       "      <td>2256.0</td>\n",
       "    </tr>\n",
       "    <tr>\n",
       "      <th>1</th>\n",
       "      <td>1000</td>\n",
       "      <td>6</td>\n",
       "      <td>43.0</td>\n",
       "      <td>172.0</td>\n",
       "      <td>60.0</td>\n",
       "      <td>23257.0</td>\n",
       "    </tr>\n",
       "    <tr>\n",
       "      <th>2</th>\n",
       "      <td>1000</td>\n",
       "      <td>7</td>\n",
       "      <td>47.0</td>\n",
       "      <td>340.0</td>\n",
       "      <td>75.0</td>\n",
       "      <td>14016.0</td>\n",
       "    </tr>\n",
       "    <tr>\n",
       "      <th>3</th>\n",
       "      <td>1000</td>\n",
       "      <td>8</td>\n",
       "      <td>52.0</td>\n",
       "      <td>408.0</td>\n",
       "      <td>81.0</td>\n",
       "      <td>14070.0</td>\n",
       "    </tr>\n",
       "    <tr>\n",
       "      <th>4</th>\n",
       "      <td>1000</td>\n",
       "      <td>9</td>\n",
       "      <td>58.0</td>\n",
       "      <td>466.0</td>\n",
       "      <td>57.0</td>\n",
       "      <td>14581.0</td>\n",
       "    </tr>\n",
       "    <tr>\n",
       "      <th>...</th>\n",
       "      <td>...</td>\n",
       "      <td>...</td>\n",
       "      <td>...</td>\n",
       "      <td>...</td>\n",
       "      <td>...</td>\n",
       "      <td>...</td>\n",
       "    </tr>\n",
       "    <tr>\n",
       "      <th>3209</th>\n",
       "      <td>1489</td>\n",
       "      <td>9</td>\n",
       "      <td>NaN</td>\n",
       "      <td>NaN</td>\n",
       "      <td>32.0</td>\n",
       "      <td>17232.0</td>\n",
       "    </tr>\n",
       "    <tr>\n",
       "      <th>3210</th>\n",
       "      <td>1489</td>\n",
       "      <td>10</td>\n",
       "      <td>NaN</td>\n",
       "      <td>NaN</td>\n",
       "      <td>21.0</td>\n",
       "      <td>19588.0</td>\n",
       "    </tr>\n",
       "    <tr>\n",
       "      <th>3211</th>\n",
       "      <td>1489</td>\n",
       "      <td>11</td>\n",
       "      <td>NaN</td>\n",
       "      <td>NaN</td>\n",
       "      <td>20.0</td>\n",
       "      <td>17516.0</td>\n",
       "    </tr>\n",
       "    <tr>\n",
       "      <th>3212</th>\n",
       "      <td>1489</td>\n",
       "      <td>12</td>\n",
       "      <td>NaN</td>\n",
       "      <td>NaN</td>\n",
       "      <td>35.0</td>\n",
       "      <td>17341.0</td>\n",
       "    </tr>\n",
       "    <tr>\n",
       "      <th>3213</th>\n",
       "      <td>1476</td>\n",
       "      <td>4</td>\n",
       "      <td>NaN</td>\n",
       "      <td>NaN</td>\n",
       "      <td>NaN</td>\n",
       "      <td>531.0</td>\n",
       "    </tr>\n",
       "  </tbody>\n",
       "</table>\n",
       "<p>3214 rows × 6 columns</p>\n",
       "</div>"
      ],
      "text/plain": [
       "      user_id  month  calls_count  calls_sum  messages_count  mb_used_rounded\n",
       "0        1000      5         22.0      159.0            22.0           2256.0\n",
       "1        1000      6         43.0      172.0            60.0          23257.0\n",
       "2        1000      7         47.0      340.0            75.0          14016.0\n",
       "3        1000      8         52.0      408.0            81.0          14070.0\n",
       "4        1000      9         58.0      466.0            57.0          14581.0\n",
       "...       ...    ...          ...        ...             ...              ...\n",
       "3209     1489      9          NaN        NaN            32.0          17232.0\n",
       "3210     1489     10          NaN        NaN            21.0          19588.0\n",
       "3211     1489     11          NaN        NaN            20.0          17516.0\n",
       "3212     1489     12          NaN        NaN            35.0          17341.0\n",
       "3213     1476      4          NaN        NaN             NaN            531.0\n",
       "\n",
       "[3214 rows x 6 columns]"
      ]
     },
     "execution_count": 35,
     "metadata": {},
     "output_type": "execute_result"
    }
   ],
   "source": [
    "df"
   ]
  },
  {
   "cell_type": "markdown",
   "metadata": {
    "id": "1Oc6ZlCobxrP"
   },
   "source": [
    "Для удобства вычислений, преобразуем значения столбца `mb_used_rounded` из МБ в ГБ и добавим их в новый столбец `gb_used`, после чего также округлим до большего целого числа ГБ."
   ]
  },
  {
   "cell_type": "code",
   "execution_count": 36,
   "metadata": {
    "id": "f4H6B9rDcIuI"
   },
   "outputs": [],
   "source": [
    "df['gb_used'] = np.ceil(df['mb_used_rounded'] / 1024)"
   ]
  },
  {
   "cell_type": "markdown",
   "metadata": {
    "id": "e_mh6Ea9em2F"
   },
   "source": [
    "Присоединим к нашей таблице `df` оставшиеся таблицы `users` и `tariffs`. "
   ]
  },
  {
   "cell_type": "code",
   "execution_count": 37,
   "metadata": {
    "id": "B8A0MbRUfWm2"
   },
   "outputs": [],
   "source": [
    "df = df.merge(users, on='user_id', how = 'outer')"
   ]
  },
  {
   "cell_type": "markdown",
   "metadata": {
    "id": "UO7h39be7Nc2"
   },
   "source": [
    "Подсчитаем пропущенные значения и заполним пропуски 0 - т.к. это будет означать, что клиент Мегалайн в этот месяц не расходовал трафик по тарифу."
   ]
  },
  {
   "cell_type": "code",
   "execution_count": 38,
   "metadata": {
    "colab": {
     "base_uri": "https://localhost:8080/",
     "height": 0
    },
    "id": "1cA-gEpGl0Kc",
    "outputId": "879fc25c-6985-4b3f-be5b-a24e75394b25"
   },
   "outputs": [
    {
     "data": {
      "text/html": [
       "<style  type=\"text/css\" >\n",
       "</style><table id=\"T_6b685_\" ><thead>    <tr>        <th class=\"blank level0\" ></th>        <th class=\"col_heading level0 col0\" >count_null_values</th>        <th class=\"col_heading level0 col1\" >percent</th>    </tr></thead><tbody>\n",
       "                <tr>\n",
       "                        <th id=\"T_6b685_level0_row0\" class=\"row_heading level0 row0\" >messages_count</th>\n",
       "                        <td id=\"T_6b685_row0_col0\" class=\"data row0 col0\" >499</td>\n",
       "                        <td id=\"T_6b685_row0_col1\" class=\"data row0 col1\" >15.5%</td>\n",
       "            </tr>\n",
       "            <tr>\n",
       "                        <th id=\"T_6b685_level0_row1\" class=\"row_heading level0 row1\" >calls_count</th>\n",
       "                        <td id=\"T_6b685_row1_col0\" class=\"data row1 col0\" >42</td>\n",
       "                        <td id=\"T_6b685_row1_col1\" class=\"data row1 col1\" >1.3%</td>\n",
       "            </tr>\n",
       "            <tr>\n",
       "                        <th id=\"T_6b685_level0_row2\" class=\"row_heading level0 row2\" >calls_sum</th>\n",
       "                        <td id=\"T_6b685_row2_col0\" class=\"data row2 col0\" >42</td>\n",
       "                        <td id=\"T_6b685_row2_col1\" class=\"data row2 col1\" >1.3%</td>\n",
       "            </tr>\n",
       "            <tr>\n",
       "                        <th id=\"T_6b685_level0_row3\" class=\"row_heading level0 row3\" >mb_used_rounded</th>\n",
       "                        <td id=\"T_6b685_row3_col0\" class=\"data row3 col0\" >13</td>\n",
       "                        <td id=\"T_6b685_row3_col1\" class=\"data row3 col1\" >0.4%</td>\n",
       "            </tr>\n",
       "            <tr>\n",
       "                        <th id=\"T_6b685_level0_row4\" class=\"row_heading level0 row4\" >gb_used</th>\n",
       "                        <td id=\"T_6b685_row4_col0\" class=\"data row4 col0\" >13</td>\n",
       "                        <td id=\"T_6b685_row4_col1\" class=\"data row4 col1\" >0.4%</td>\n",
       "            </tr>\n",
       "            <tr>\n",
       "                        <th id=\"T_6b685_level0_row5\" class=\"row_heading level0 row5\" >month</th>\n",
       "                        <td id=\"T_6b685_row5_col0\" class=\"data row5 col0\" >2</td>\n",
       "                        <td id=\"T_6b685_row5_col1\" class=\"data row5 col1\" >0.1%</td>\n",
       "            </tr>\n",
       "    </tbody></table>"
      ],
      "text/plain": [
       "<pandas.io.formats.style.Styler at 0x2a183246e80>"
      ]
     },
     "execution_count": 38,
     "metadata": {},
     "output_type": "execute_result"
    }
   ],
   "source": [
    "view_null_values(df)"
   ]
  },
  {
   "cell_type": "code",
   "execution_count": 39,
   "metadata": {
    "id": "qw2Dtjf6lLXw"
   },
   "outputs": [],
   "source": [
    "df = df.fillna(0)"
   ]
  },
  {
   "cell_type": "markdown",
   "metadata": {
    "id": "MQyvnTir8Oj3"
   },
   "source": [
    "Посмотрим, какие значения у нас хранятся в столбце `month` после объединения:"
   ]
  },
  {
   "cell_type": "code",
   "execution_count": 40,
   "metadata": {
    "colab": {
     "base_uri": "https://localhost:8080/"
    },
    "id": "TBnYVkdE7ohQ",
    "outputId": "9275fdcb-8180-449b-b1ad-e4d93f5b9500"
   },
   "outputs": [
    {
     "data": {
      "text/plain": [
       "0.0       2\n",
       "1.0      43\n",
       "2.0      82\n",
       "3.0     114\n",
       "4.0     167\n",
       "5.0     208\n",
       "6.0     248\n",
       "7.0     292\n",
       "8.0     342\n",
       "9.0     375\n",
       "10.0    417\n",
       "11.0    450\n",
       "12.0    476\n",
       "Name: month, dtype: int64"
      ]
     },
     "execution_count": 40,
     "metadata": {},
     "output_type": "execute_result"
    }
   ],
   "source": [
    "df['month'].value_counts().sort_index()"
   ]
  },
  {
   "cell_type": "markdown",
   "metadata": {
    "id": "YIRs3-b28WAD"
   },
   "source": [
    "Как-то странно, целых 2 клиента, у которых месяц = 0. Посмотрим, что это за 2 клиента."
   ]
  },
  {
   "cell_type": "code",
   "execution_count": 41,
   "metadata": {
    "colab": {
     "base_uri": "https://localhost:8080/",
     "height": 0
    },
    "id": "A2FlnC_f734R",
    "outputId": "35cb2c48-1926-4857-e0a3-cc0143b818ca"
   },
   "outputs": [
    {
     "data": {
      "text/html": [
       "<div>\n",
       "<style scoped>\n",
       "    .dataframe tbody tr th:only-of-type {\n",
       "        vertical-align: middle;\n",
       "    }\n",
       "\n",
       "    .dataframe tbody tr th {\n",
       "        vertical-align: top;\n",
       "    }\n",
       "\n",
       "    .dataframe thead th {\n",
       "        text-align: right;\n",
       "    }\n",
       "</style>\n",
       "<table border=\"1\" class=\"dataframe\">\n",
       "  <thead>\n",
       "    <tr style=\"text-align: right;\">\n",
       "      <th></th>\n",
       "      <th>user_id</th>\n",
       "      <th>month</th>\n",
       "      <th>calls_count</th>\n",
       "      <th>calls_sum</th>\n",
       "      <th>messages_count</th>\n",
       "      <th>mb_used_rounded</th>\n",
       "      <th>gb_used</th>\n",
       "      <th>age</th>\n",
       "      <th>churn_date</th>\n",
       "      <th>city</th>\n",
       "      <th>first_name</th>\n",
       "      <th>last_name</th>\n",
       "      <th>reg_date</th>\n",
       "      <th>tariff</th>\n",
       "      <th>is_chern</th>\n",
       "    </tr>\n",
       "  </thead>\n",
       "  <tbody>\n",
       "    <tr>\n",
       "      <th>3214</th>\n",
       "      <td>1128</td>\n",
       "      <td>0.0</td>\n",
       "      <td>0.0</td>\n",
       "      <td>0.0</td>\n",
       "      <td>0.0</td>\n",
       "      <td>0.0</td>\n",
       "      <td>0.0</td>\n",
       "      <td>51</td>\n",
       "      <td>2018-12-23</td>\n",
       "      <td>Волжский</td>\n",
       "      <td>Ксения</td>\n",
       "      <td>Агаева</td>\n",
       "      <td>2018-12-15</td>\n",
       "      <td>ultra</td>\n",
       "      <td>True</td>\n",
       "    </tr>\n",
       "    <tr>\n",
       "      <th>3215</th>\n",
       "      <td>1371</td>\n",
       "      <td>0.0</td>\n",
       "      <td>0.0</td>\n",
       "      <td>0.0</td>\n",
       "      <td>0.0</td>\n",
       "      <td>0.0</td>\n",
       "      <td>0.0</td>\n",
       "      <td>50</td>\n",
       "      <td>2018-12-30</td>\n",
       "      <td>Омск</td>\n",
       "      <td>Ириней</td>\n",
       "      <td>Трофимов</td>\n",
       "      <td>2018-12-25</td>\n",
       "      <td>smart</td>\n",
       "      <td>True</td>\n",
       "    </tr>\n",
       "  </tbody>\n",
       "</table>\n",
       "</div>"
      ],
      "text/plain": [
       "      user_id  month  calls_count  calls_sum  messages_count  mb_used_rounded  \\\n",
       "3214     1128    0.0          0.0        0.0             0.0              0.0   \n",
       "3215     1371    0.0          0.0        0.0             0.0              0.0   \n",
       "\n",
       "      gb_used  age  churn_date      city first_name last_name    reg_date  \\\n",
       "3214      0.0   51  2018-12-23  Волжский     Ксения    Агаева  2018-12-15   \n",
       "3215      0.0   50  2018-12-30      Омск     Ириней  Трофимов  2018-12-25   \n",
       "\n",
       "     tariff  is_chern  \n",
       "3214  ultra      True  \n",
       "3215  smart      True  "
      ]
     },
     "execution_count": 41,
     "metadata": {},
     "output_type": "execute_result"
    }
   ],
   "source": [
    "df.query('month == 0')"
   ]
  },
  {
   "cell_type": "markdown",
   "metadata": {
    "id": "saoED3sw8lIm"
   },
   "source": [
    "Как видим, это 2 клиента, которые не пользовались тарифом и недели. Учитвая то, что у них не было никакого трафика по звонкам/смс/интернету, удалим эти записи из таблицы."
   ]
  },
  {
   "cell_type": "code",
   "execution_count": 42,
   "metadata": {
    "id": "62YgxrOe84E3"
   },
   "outputs": [],
   "source": [
    "df = df.drop(df[df['month'] == 0].index)"
   ]
  },
  {
   "cell_type": "markdown",
   "metadata": {
    "id": "rRmYVYYa-gRo"
   },
   "source": [
    "Проверяем, что больше таких клиентов не осталось."
   ]
  },
  {
   "cell_type": "code",
   "execution_count": 43,
   "metadata": {
    "colab": {
     "base_uri": "https://localhost:8080/",
     "height": 0
    },
    "id": "sry5FPbg-Xah",
    "outputId": "33cadfb2-b261-4795-b81c-0b06d4468c21"
   },
   "outputs": [
    {
     "data": {
      "text/html": [
       "<div>\n",
       "<style scoped>\n",
       "    .dataframe tbody tr th:only-of-type {\n",
       "        vertical-align: middle;\n",
       "    }\n",
       "\n",
       "    .dataframe tbody tr th {\n",
       "        vertical-align: top;\n",
       "    }\n",
       "\n",
       "    .dataframe thead th {\n",
       "        text-align: right;\n",
       "    }\n",
       "</style>\n",
       "<table border=\"1\" class=\"dataframe\">\n",
       "  <thead>\n",
       "    <tr style=\"text-align: right;\">\n",
       "      <th></th>\n",
       "      <th>user_id</th>\n",
       "      <th>month</th>\n",
       "      <th>calls_count</th>\n",
       "      <th>calls_sum</th>\n",
       "      <th>messages_count</th>\n",
       "      <th>mb_used_rounded</th>\n",
       "      <th>gb_used</th>\n",
       "      <th>age</th>\n",
       "      <th>churn_date</th>\n",
       "      <th>city</th>\n",
       "      <th>first_name</th>\n",
       "      <th>last_name</th>\n",
       "      <th>reg_date</th>\n",
       "      <th>tariff</th>\n",
       "      <th>is_chern</th>\n",
       "    </tr>\n",
       "  </thead>\n",
       "  <tbody>\n",
       "  </tbody>\n",
       "</table>\n",
       "</div>"
      ],
      "text/plain": [
       "Empty DataFrame\n",
       "Columns: [user_id, month, calls_count, calls_sum, messages_count, mb_used_rounded, gb_used, age, churn_date, city, first_name, last_name, reg_date, tariff, is_chern]\n",
       "Index: []"
      ]
     },
     "execution_count": 43,
     "metadata": {},
     "output_type": "execute_result"
    }
   ],
   "source": [
    "df.query('month == 0')"
   ]
  },
  {
   "cell_type": "markdown",
   "metadata": {
    "id": "FbJhYSmnjabs"
   },
   "source": [
    "Посмотрим итоговый тип данных для значений таблицы `df`."
   ]
  },
  {
   "cell_type": "code",
   "execution_count": 44,
   "metadata": {
    "colab": {
     "base_uri": "https://localhost:8080/"
    },
    "id": "COo3VDyejOPi",
    "outputId": "d96af377-4f5c-4516-f5f2-75175662f19f"
   },
   "outputs": [
    {
     "data": {
      "text/plain": [
       "user_id              int64\n",
       "month              float64\n",
       "calls_count        float64\n",
       "calls_sum          float64\n",
       "messages_count     float64\n",
       "mb_used_rounded    float64\n",
       "gb_used            float64\n",
       "age                  int64\n",
       "churn_date          object\n",
       "city                object\n",
       "first_name          object\n",
       "last_name           object\n",
       "reg_date            object\n",
       "tariff              object\n",
       "is_chern              bool\n",
       "dtype: object"
      ]
     },
     "execution_count": 44,
     "metadata": {},
     "output_type": "execute_result"
    }
   ],
   "source": [
    "df.dtypes"
   ]
  },
  {
   "cell_type": "markdown",
   "metadata": {
    "id": "-0QCWmyIuOZ_"
   },
   "source": [
    "### Оптимизация занимаемой памяти"
   ]
  },
  {
   "cell_type": "markdown",
   "metadata": {
    "id": "pUeVVBIouVgu"
   },
   "source": [
    "Получим размер текущей таблицы `df`."
   ]
  },
  {
   "cell_type": "code",
   "execution_count": 45,
   "metadata": {
    "colab": {
     "base_uri": "https://localhost:8080/",
     "height": 0
    },
    "id": "6n5oxiUSt27L",
    "outputId": "d04f1ac9-e50f-428b-da98-8e1ebed5b456"
   },
   "outputs": [
    {
     "data": {
      "text/plain": [
       "'1.61 MB'"
      ]
     },
     "execution_count": 45,
     "metadata": {},
     "output_type": "execute_result"
    }
   ],
   "source": [
    "df_size_old = mem_usage(df, False)\n",
    "mem_usage(df)"
   ]
  },
  {
   "cell_type": "markdown",
   "metadata": {
    "id": "haHiWur7jjdf"
   },
   "source": [
    "Преобразуем столбцы `month, calls_count, calls_sum, messages_count, gb_used` к типу данных `int`"
   ]
  },
  {
   "cell_type": "code",
   "execution_count": 46,
   "metadata": {
    "colab": {
     "base_uri": "https://localhost:8080/",
     "height": 0,
     "referenced_widgets": [
      "dd97d24682f7419aa6b8a928c5c421e0",
      "1b003e75c1a04f17bcc96b1a23021232",
      "10b3a973b2374e56a4fc9c160b608929",
      "e130f8c04f204289b61310fd81154dcd",
      "c01f3c469b4246d9855ae0169111b415",
      "d01ba7c36d914b108f386170d6d55523",
      "69c3904e7dc44118a14d5a088faae1c4",
      "945d375df11a4211a89a2c329e5401e1"
     ]
    },
    "id": "BQZxMNVyjgkI",
    "outputId": "f41ee920-4a75-4d5f-a0e7-6f6de3f2b895"
   },
   "outputs": [
    {
     "data": {
      "application/vnd.jupyter.widget-view+json": {
       "model_id": "6b05cd39d01f4db19833d1eb4659bacc",
       "version_major": 2,
       "version_minor": 0
      },
      "text/plain": [
       "  0%|          | 0/6 [00:00<?, ?it/s]"
      ]
     },
     "metadata": {},
     "output_type": "display_data"
    }
   ],
   "source": [
    "df_float = df.select_dtypes(include=['float'])\n",
    "float_to_int = df_float.progress_apply(pd.to_numeric, downcast='unsigned')"
   ]
  },
  {
   "cell_type": "code",
   "execution_count": 47,
   "metadata": {
    "id": "5uTXenO9t5cm"
   },
   "outputs": [],
   "source": [
    "df[float_to_int.columns] = float_to_int"
   ]
  },
  {
   "cell_type": "markdown",
   "metadata": {
    "id": "NApqrSa6uenw"
   },
   "source": [
    "Получим размер `df` после оптимизации."
   ]
  },
  {
   "cell_type": "code",
   "execution_count": 48,
   "metadata": {
    "colab": {
     "base_uri": "https://localhost:8080/",
     "height": 0
    },
    "id": "KwYgKAmatd_m",
    "outputId": "5ccb95d7-527d-4191-b05a-164262db9ee8"
   },
   "outputs": [
    {
     "data": {
      "text/plain": [
       "'1.49 MB'"
      ]
     },
     "execution_count": 48,
     "metadata": {},
     "output_type": "execute_result"
    }
   ],
   "source": [
    "df_size_new = mem_usage(df, False)\n",
    "mem_usage(df)"
   ]
  },
  {
   "cell_type": "markdown",
   "metadata": {
    "id": "tv02_mt8unIw"
   },
   "source": [
    "Выигрышь в памяти составил порядка:"
   ]
  },
  {
   "cell_type": "code",
   "execution_count": 49,
   "metadata": {
    "colab": {
     "base_uri": "https://localhost:8080/"
    },
    "id": "bNAGbl2yusRd",
    "outputId": "325f9ac1-81f5-4f1c-cd75-c6600d987159"
   },
   "outputs": [
    {
     "name": "stdout",
     "output_type": "stream",
     "text": [
      " 7.5%\n"
     ]
    }
   ],
   "source": [
    "print(f'{(100 - ((df_size_new * 100) / df_size_old)) / 100: 0.1%}')"
   ]
  },
  {
   "cell_type": "markdown",
   "metadata": {
    "id": "dHsy_nK4eQLr"
   },
   "source": [
    "### Помесячная выручка с каждого клиента Мегалайн"
   ]
  },
  {
   "cell_type": "markdown",
   "metadata": {
    "id": "hqEy5TDFLnUx"
   },
   "source": [
    "Добавим к нашей таблице месячную оплату по тарифу в пределах лимитов"
   ]
  },
  {
   "cell_type": "code",
   "execution_count": 50,
   "metadata": {
    "id": "Qj_gFqHOKsnb"
   },
   "outputs": [],
   "source": [
    "df = (df\n",
    "      .merge(tariffs[['rub_monthly_fee','tariff_name']], how = 'outer', left_on='tariff', right_on='tariff_name')\n",
    "      .drop(columns = ['tariff_name'])\n",
    ")"
   ]
  },
  {
   "cell_type": "markdown",
   "metadata": {
    "id": "J2bNi9oVeVnc"
   },
   "source": [
    "Подсчитаем месячную выручку с каждого клиента Мегалайн, но для этого напишем функцию подсчета итоговой суммы с учетом переплаты."
   ]
  },
  {
   "cell_type": "code",
   "execution_count": 51,
   "metadata": {
    "id": "z9HmYADueZj-"
   },
   "outputs": [],
   "source": [
    "# функция подсчета месячной платы с клиента\n",
    "def gain_month(row):\n",
    "    calls = row['calls_sum']\n",
    "    messages = row['messages_count']\n",
    "    internet = row['mb_used_rounded']\n",
    "    tariff = row['tariff']\n",
    "\n",
    "    # получение лимитов по тарифу\n",
    "    # array[0] нужен чтобы после того, как вернулся объект типа Series, получить из него число типа int и записать в переменную\n",
    "    minutes_lim = tariffs.loc[tariffs['tariff_name'] == tariff, 'minutes_included'].array[0]\n",
    "    message_lim = tariffs.loc[tariffs['tariff_name'] == tariff, 'messages_included'].array[0]\n",
    "    internet_lim = tariffs.loc[tariffs['tariff_name'] == tariff, 'mb_per_month_included'].array[0]\n",
    "\n",
    "    # переплата по звонкам\n",
    "    call_overlimit = max(calls - minutes_lim, 0) # если превышения нет, вернем 0\n",
    "    call_overpay = call_overlimit * tariffs.loc[tariffs['tariff_name'] == tariff, 'rub_per_minute'].array[0]\n",
    "\n",
    "    # переплата по сообщениям\n",
    "    message_overlimit = max(messages - message_lim, 0) # если превышения нет, вернем 0\n",
    "    message_overpay = message_overlimit * tariffs.loc[tariffs['tariff_name'] == tariff, 'rub_per_message'].array[0]\n",
    "\n",
    "    # переплата за трафик интернета\n",
    "    internet_overlimit = max(internet - internet_lim, 0) # если превышения нет, вернем 0\n",
    "    internet_overpay = np.ceil(internet_overlimit / 1024) * tariffs.loc[tariffs['tariff_name'] == tariff, 'rub_per_gb'].array[0]\n",
    "\n",
    "    return (call_overpay + \n",
    "            message_overpay + \n",
    "            internet_overpay +\n",
    "            tariffs.loc[tariffs['tariff_name'] == tariff, 'rub_monthly_fee'].array[0]\n",
    "    )"
   ]
  },
  {
   "cell_type": "code",
   "execution_count": 52,
   "metadata": {
    "colab": {
     "base_uri": "https://localhost:8080/",
     "height": 66,
     "referenced_widgets": [
      "2283c555ff8a40b8b923d35534ca9fca",
      "96edfdc1d5964c638179a2a53fa7a5e7",
      "760a866bfb78494ea33cf3580153fa77",
      "5981b67eb54c4ff597b3ec694d21ce91",
      "43f16452f1ab4fe6a35f4800dd5b865b",
      "ad2dc9dae2eb402389b44f3e58fb3a2d",
      "6d0f8830c7ef42328bac5890ceb473d9",
      "aecdb862d8d148bb881b1740d4876da7"
     ]
    },
    "id": "wNV71yZxHTAB",
    "outputId": "d9df71f0-177e-458b-a4df-1354e677f112"
   },
   "outputs": [
    {
     "data": {
      "application/vnd.jupyter.widget-view+json": {
       "model_id": "7577b0c35ecb401886c0654aad03764e",
       "version_major": 2,
       "version_minor": 0
      },
      "text/plain": [
       "  0%|          | 0/3214 [00:00<?, ?it/s]"
      ]
     },
     "metadata": {},
     "output_type": "display_data"
    }
   ],
   "source": [
    "df['month_payment'] = df.progress_apply(gain_month, axis = 1).astype('int')"
   ]
  },
  {
   "cell_type": "markdown",
   "metadata": {
    "id": "amLpQwFSRchO"
   },
   "source": [
    "Запишем так же в отдельный столбец какая переплата за месяц по отношению к основной ставке тарифа"
   ]
  },
  {
   "cell_type": "code",
   "execution_count": 53,
   "metadata": {
    "id": "HEcFiiZCOBqj"
   },
   "outputs": [],
   "source": [
    "df['month_overpay'] = df['month_payment'] - df['rub_monthly_fee']"
   ]
  },
  {
   "cell_type": "code",
   "execution_count": 54,
   "metadata": {
    "colab": {
     "base_uri": "https://localhost:8080/",
     "height": 309
    },
    "id": "8WiH7IGIQMuW",
    "outputId": "51f0f834-c49c-4344-e595-64a4ddfe9db0"
   },
   "outputs": [
    {
     "data": {
      "text/html": [
       "<div>\n",
       "<style scoped>\n",
       "    .dataframe tbody tr th:only-of-type {\n",
       "        vertical-align: middle;\n",
       "    }\n",
       "\n",
       "    .dataframe tbody tr th {\n",
       "        vertical-align: top;\n",
       "    }\n",
       "\n",
       "    .dataframe thead th {\n",
       "        text-align: right;\n",
       "    }\n",
       "</style>\n",
       "<table border=\"1\" class=\"dataframe\">\n",
       "  <thead>\n",
       "    <tr style=\"text-align: right;\">\n",
       "      <th></th>\n",
       "      <th>user_id</th>\n",
       "      <th>month</th>\n",
       "      <th>calls_count</th>\n",
       "      <th>calls_sum</th>\n",
       "      <th>messages_count</th>\n",
       "      <th>mb_used_rounded</th>\n",
       "      <th>gb_used</th>\n",
       "      <th>age</th>\n",
       "      <th>churn_date</th>\n",
       "      <th>city</th>\n",
       "      <th>first_name</th>\n",
       "      <th>last_name</th>\n",
       "      <th>reg_date</th>\n",
       "      <th>tariff</th>\n",
       "      <th>is_chern</th>\n",
       "      <th>rub_monthly_fee</th>\n",
       "      <th>month_payment</th>\n",
       "      <th>month_overpay</th>\n",
       "    </tr>\n",
       "  </thead>\n",
       "  <tbody>\n",
       "    <tr>\n",
       "      <th>3209</th>\n",
       "      <td>1489</td>\n",
       "      <td>8</td>\n",
       "      <td>0</td>\n",
       "      <td>0</td>\n",
       "      <td>17</td>\n",
       "      <td>11066</td>\n",
       "      <td>11</td>\n",
       "      <td>35</td>\n",
       "      <td>0</td>\n",
       "      <td>Санкт-Петербург</td>\n",
       "      <td>Павел</td>\n",
       "      <td>Гончаров</td>\n",
       "      <td>2018-08-15</td>\n",
       "      <td>smart</td>\n",
       "      <td>False</td>\n",
       "      <td>550</td>\n",
       "      <td>550</td>\n",
       "      <td>0</td>\n",
       "    </tr>\n",
       "    <tr>\n",
       "      <th>3210</th>\n",
       "      <td>1489</td>\n",
       "      <td>9</td>\n",
       "      <td>0</td>\n",
       "      <td>0</td>\n",
       "      <td>32</td>\n",
       "      <td>17232</td>\n",
       "      <td>17</td>\n",
       "      <td>35</td>\n",
       "      <td>0</td>\n",
       "      <td>Санкт-Петербург</td>\n",
       "      <td>Павел</td>\n",
       "      <td>Гончаров</td>\n",
       "      <td>2018-08-15</td>\n",
       "      <td>smart</td>\n",
       "      <td>False</td>\n",
       "      <td>550</td>\n",
       "      <td>950</td>\n",
       "      <td>400</td>\n",
       "    </tr>\n",
       "    <tr>\n",
       "      <th>3211</th>\n",
       "      <td>1489</td>\n",
       "      <td>10</td>\n",
       "      <td>0</td>\n",
       "      <td>0</td>\n",
       "      <td>21</td>\n",
       "      <td>19588</td>\n",
       "      <td>20</td>\n",
       "      <td>35</td>\n",
       "      <td>0</td>\n",
       "      <td>Санкт-Петербург</td>\n",
       "      <td>Павел</td>\n",
       "      <td>Гончаров</td>\n",
       "      <td>2018-08-15</td>\n",
       "      <td>smart</td>\n",
       "      <td>False</td>\n",
       "      <td>550</td>\n",
       "      <td>1550</td>\n",
       "      <td>1000</td>\n",
       "    </tr>\n",
       "    <tr>\n",
       "      <th>3212</th>\n",
       "      <td>1489</td>\n",
       "      <td>11</td>\n",
       "      <td>0</td>\n",
       "      <td>0</td>\n",
       "      <td>20</td>\n",
       "      <td>17516</td>\n",
       "      <td>18</td>\n",
       "      <td>35</td>\n",
       "      <td>0</td>\n",
       "      <td>Санкт-Петербург</td>\n",
       "      <td>Павел</td>\n",
       "      <td>Гончаров</td>\n",
       "      <td>2018-08-15</td>\n",
       "      <td>smart</td>\n",
       "      <td>False</td>\n",
       "      <td>550</td>\n",
       "      <td>1150</td>\n",
       "      <td>600</td>\n",
       "    </tr>\n",
       "    <tr>\n",
       "      <th>3213</th>\n",
       "      <td>1489</td>\n",
       "      <td>12</td>\n",
       "      <td>0</td>\n",
       "      <td>0</td>\n",
       "      <td>35</td>\n",
       "      <td>17341</td>\n",
       "      <td>17</td>\n",
       "      <td>35</td>\n",
       "      <td>0</td>\n",
       "      <td>Санкт-Петербург</td>\n",
       "      <td>Павел</td>\n",
       "      <td>Гончаров</td>\n",
       "      <td>2018-08-15</td>\n",
       "      <td>smart</td>\n",
       "      <td>False</td>\n",
       "      <td>550</td>\n",
       "      <td>950</td>\n",
       "      <td>400</td>\n",
       "    </tr>\n",
       "  </tbody>\n",
       "</table>\n",
       "</div>"
      ],
      "text/plain": [
       "      user_id  month  calls_count  calls_sum  messages_count  mb_used_rounded  \\\n",
       "3209     1489      8            0          0              17            11066   \n",
       "3210     1489      9            0          0              32            17232   \n",
       "3211     1489     10            0          0              21            19588   \n",
       "3212     1489     11            0          0              20            17516   \n",
       "3213     1489     12            0          0              35            17341   \n",
       "\n",
       "      gb_used  age churn_date             city first_name last_name  \\\n",
       "3209       11   35          0  Санкт-Петербург      Павел  Гончаров   \n",
       "3210       17   35          0  Санкт-Петербург      Павел  Гончаров   \n",
       "3211       20   35          0  Санкт-Петербург      Павел  Гончаров   \n",
       "3212       18   35          0  Санкт-Петербург      Павел  Гончаров   \n",
       "3213       17   35          0  Санкт-Петербург      Павел  Гончаров   \n",
       "\n",
       "        reg_date tariff  is_chern  rub_monthly_fee  month_payment  \\\n",
       "3209  2018-08-15  smart     False              550            550   \n",
       "3210  2018-08-15  smart     False              550            950   \n",
       "3211  2018-08-15  smart     False              550           1550   \n",
       "3212  2018-08-15  smart     False              550           1150   \n",
       "3213  2018-08-15  smart     False              550            950   \n",
       "\n",
       "      month_overpay  \n",
       "3209              0  \n",
       "3210            400  \n",
       "3211           1000  \n",
       "3212            600  \n",
       "3213            400  "
      ]
     },
     "execution_count": 54,
     "metadata": {},
     "output_type": "execute_result"
    }
   ],
   "source": [
    "df.tail()"
   ]
  },
  {
   "cell_type": "markdown",
   "metadata": {
    "id": "wAcVrK4uRqlM"
   },
   "source": [
    "### Выводы"
   ]
  },
  {
   "cell_type": "markdown",
   "metadata": {
    "id": "yeHN6erWRta7"
   },
   "source": [
    "Проделав `титаническую` работу :) по предобработке данных мы выделили такие моменты как:\n",
    "\n",
    "1. Удалили пользователей, которые пользовались услугами около 1 недели\n",
    "2. Выделили из сессией по звонкам/смс/интернету суммарный траффик за месяц\n",
    "3. Заполнили пропуски у тех клиентов, которые не пользовались услугами в данном месяце\n",
    "4. Пасхалка: Привет, ревьюеру!\n",
    "5. Немножко оптимизировали память (хотя данных немного)\n",
    "6. Посчитали помесячную выручку с каждого клиента\n",
    "\n",
    "Будем надеяться, что дальше будет так же хорошо :)\n",
    "\n"
   ]
  },
  {
   "cell_type": "markdown",
   "metadata": {
    "id": "5e_Zf1A0pQP8"
   },
   "source": [
    "## 3. Анализ данных"
   ]
  },
  {
   "cell_type": "markdown",
   "metadata": {
    "id": "Cb6hk7zpp809"
   },
   "source": [
    "Выполним анализ тарифов по таким показателям как: продолжительность звонков, количество отправляемых СМС, используемый траффик. Для этого построим частотный график по данным параметрам."
   ]
  },
  {
   "cell_type": "markdown",
   "metadata": {
    "id": "6iIcBA3mspTZ"
   },
   "source": [
    "Добавим функцию для построения гистограмм:"
   ]
  },
  {
   "cell_type": "code",
   "execution_count": 55,
   "metadata": {
    "id": "kFT-nJOS2Xkx"
   },
   "outputs": [],
   "source": [
    "def draw_hist(data, values, bins, xlabel, ylabel, axvline1, axvline2, title):\n",
    "    (data\n",
    "     .pivot_table(index=['user_id', 'month'], columns = 'tariff', values = values)\n",
    "     .plot(kind='hist', bins=bins, figsize=(14,7))\n",
    "    )\n",
    "    plt.axvline(axvline1, color = 'black')\n",
    "    plt.axvline(axvline2, color = 'red')\n",
    "    plt.xlabel(xlabel)\n",
    "    plt.ylabel(ylabel)\n",
    "    plt.title(title)\n",
    "    plt.show()"
   ]
  },
  {
   "cell_type": "code",
   "execution_count": 56,
   "metadata": {
    "colab": {
     "base_uri": "https://localhost:8080/",
     "height": 464
    },
    "id": "0RgOaf553Vlu",
    "outputId": "07a72227-5a37-4d7c-8278-efc95861c54c"
   },
   "outputs": [
    {
     "data": {
      "image/png": "[encoded data removed]",
      "text/plain": [
       "<Figure size 1008x504 with 1 Axes>"
      ]
     },
     "metadata": {},
     "output_type": "display_data"
    }
   ],
   "source": [
    "draw_hist(df, 'calls_sum', 20, 'call, min', 'frequency', 500, 1800, 'Calls')"
   ]
  },
  {
   "cell_type": "markdown",
   "metadata": {
    "id": "lx85s6tLs0qd"
   },
   "source": [
    "Как видно из графика, можно сказать что:\n",
    "- чаще всего клиентам тарифа `smart` хватает 500 минут, при ограничении в те самые 500 минут,\n",
    "- чаще всего клиентам тарифа `ultra` хватает порядка 600 минут, мало кто из клиентов тратит больше 1500 минут в месяц, при ограничении в 3000 минут (стоит отметить, что на графике сделано ограничение 1800 минут, т.к. максимальное время затраченное на разговор было порядка 1600 минут)"
   ]
  },
  {
   "cell_type": "code",
   "execution_count": 57,
   "metadata": {
    "colab": {
     "base_uri": "https://localhost:8080/",
     "height": 464
    },
    "id": "yeKwo6IKaove",
    "outputId": "b3bb39f2-a8aa-43e8-9410-1c763ba9c2f8"
   },
   "outputs": [
    {
     "data": {
      "image/png": "[encoded data removed]",
      "text/plain": [
       "<Figure size 1008x504 with 1 Axes>"
      ]
     },
     "metadata": {},
     "output_type": "display_data"
    }
   ],
   "source": [
    "draw_hist(df, 'messages_count', 50, 'messages, count', 'frequency', 50, 250, 'Messages')"
   ]
  },
  {
   "cell_type": "code",
   "execution_count": 58,
   "metadata": {
    "colab": {
     "base_uri": "https://localhost:8080/"
    },
    "id": "zzRKZyGrd9HO",
    "outputId": "6dd92c66-0bcc-47ad-dc2d-540ae3828b80"
   },
   "outputs": [
    {
     "data": {
      "text/plain": [
       "430"
      ]
     },
     "execution_count": 58,
     "metadata": {},
     "output_type": "execute_result"
    }
   ],
   "source": [
    "df.query('(tariff == \"smart\") and (messages_count <= 5)')['messages_count'].count()"
   ]
  },
  {
   "cell_type": "code",
   "execution_count": 59,
   "metadata": {
    "colab": {
     "base_uri": "https://localhost:8080/"
    },
    "id": "Eg9a5wnyei1W",
    "outputId": "f1d592b4-865c-4ddc-93f6-be27af854b08"
   },
   "outputs": [
    {
     "data": {
      "text/plain": [
       "240"
      ]
     },
     "execution_count": 59,
     "metadata": {},
     "output_type": "execute_result"
    }
   ],
   "source": [
    "df.query('(tariff == \"ultra\") and (messages_count <= 5)')['messages_count'].count()"
   ]
  },
  {
   "cell_type": "markdown",
   "metadata": {
    "id": "B1MsGvOvtLRf"
   },
   "source": [
    "По сообщением тоже можно заметить, что:\n",
    "- тариф `smart` в большинстве отправляет порядка до 5 сообщений, при ограничиении тарифа 50 \n",
    "- тариф `ultra` отправляет также большинство сообщение порядка до 5 сообщений, при ограничении 1000 (искуственно занизили до 250, т.к. после 224 уже нет значений)\n",
    "\n",
    "Конечно, зачем СМС, когда давно есть мессенджеры. Вот в 2007 году 1000 СМС было бы хорошо, но его не вернуть, как и icq c 6 знаками.\n",
    "\n",
    "Стоит так же отметить, что в целом на тарифе `smart` пользователи чаще отправляют СМС, чем на `ultra`, это может быть связано с тем, что нет ограничения по времени разговора, и проще всего обсудить в диалоге что-то, чем отправлять СМС."
   ]
  },
  {
   "cell_type": "code",
   "execution_count": 60,
   "metadata": {
    "colab": {
     "base_uri": "https://localhost:8080/",
     "height": 464
    },
    "id": "Y5h1LSP4crCC",
    "outputId": "19ed31ec-8de2-416c-e4b8-7a18e858f126"
   },
   "outputs": [
    {
     "data": {
      "image/png": "[encoded data removed]",
      "text/plain": [
       "<Figure size 1008x504 with 1 Axes>"
      ]
     },
     "metadata": {},
     "output_type": "display_data"
    }
   ],
   "source": [
    "draw_hist(df, 'mb_used_rounded', 30, 'internet, MB', 'frequency', 15360, 30720, 'Internet')"
   ]
  },
  {
   "cell_type": "markdown",
   "metadata": {
    "id": "IzWZv9rSttIE"
   },
   "source": [
    "По объему трафика можно сказать, что:\n",
    "- тарифу `smart` требуется в основном порядка 17 Гб в месяц, с учетом лимита 15  Гб\n",
    "- с тарифом `ultra` немного сложнее, т.к. нет явных пиков, в основном это поряка 20-30 Гб, хотя есть и те, кто тратят свыше 40 Гб, напомню, лимит - 30 Гб в месяц."
   ]
  },
  {
   "cell_type": "markdown",
   "metadata": {
    "id": "aTzytOqp6UZb"
   },
   "source": [
    "### Среднее значение, дисперсия и стандартное отклонение"
   ]
  },
  {
   "cell_type": "markdown",
   "metadata": {
    "id": "lTlTOB3ru1Sm"
   },
   "source": [
    "Найдем среднее значение, дисперсию и стандартное отклонение для тарифов `smart и ultra`"
   ]
  },
  {
   "cell_type": "code",
   "execution_count": 61,
   "metadata": {
    "colab": {
     "base_uri": "https://localhost:8080/",
     "height": 173
    },
    "id": "b_bPk3uwxYvV",
    "outputId": "3a8b3ab1-931e-45b2-de9e-319b6737e7c3"
   },
   "outputs": [
    {
     "data": {
      "text/html": [
       "<div>\n",
       "<style scoped>\n",
       "    .dataframe tbody tr th:only-of-type {\n",
       "        vertical-align: middle;\n",
       "    }\n",
       "\n",
       "    .dataframe tbody tr th {\n",
       "        vertical-align: top;\n",
       "    }\n",
       "\n",
       "    .dataframe thead tr th {\n",
       "        text-align: left;\n",
       "    }\n",
       "\n",
       "    .dataframe thead tr:last-of-type th {\n",
       "        text-align: right;\n",
       "    }\n",
       "</style>\n",
       "<table border=\"1\" class=\"dataframe\">\n",
       "  <thead>\n",
       "    <tr>\n",
       "      <th></th>\n",
       "      <th colspan=\"3\" halign=\"left\">mean</th>\n",
       "      <th colspan=\"3\" halign=\"left\">var</th>\n",
       "      <th colspan=\"3\" halign=\"left\">std</th>\n",
       "    </tr>\n",
       "    <tr>\n",
       "      <th></th>\n",
       "      <th>calls_sum</th>\n",
       "      <th>gb_used</th>\n",
       "      <th>messages_count</th>\n",
       "      <th>calls_sum</th>\n",
       "      <th>gb_used</th>\n",
       "      <th>messages_count</th>\n",
       "      <th>calls_sum</th>\n",
       "      <th>gb_used</th>\n",
       "      <th>messages_count</th>\n",
       "    </tr>\n",
       "    <tr>\n",
       "      <th>tariff</th>\n",
       "      <th></th>\n",
       "      <th></th>\n",
       "      <th></th>\n",
       "      <th></th>\n",
       "      <th></th>\n",
       "      <th></th>\n",
       "      <th></th>\n",
       "      <th></th>\n",
       "      <th></th>\n",
       "    </tr>\n",
       "  </thead>\n",
       "  <tbody>\n",
       "    <tr>\n",
       "      <th>smart</th>\n",
       "      <td>417</td>\n",
       "      <td>16</td>\n",
       "      <td>33</td>\n",
       "      <td>36219</td>\n",
       "      <td>33</td>\n",
       "      <td>796</td>\n",
       "      <td>190</td>\n",
       "      <td>5</td>\n",
       "      <td>28</td>\n",
       "    </tr>\n",
       "    <tr>\n",
       "      <th>ultra</th>\n",
       "      <td>526</td>\n",
       "      <td>19</td>\n",
       "      <td>49</td>\n",
       "      <td>100873</td>\n",
       "      <td>97</td>\n",
       "      <td>2285</td>\n",
       "      <td>317</td>\n",
       "      <td>9</td>\n",
       "      <td>47</td>\n",
       "    </tr>\n",
       "  </tbody>\n",
       "</table>\n",
       "</div>"
      ],
      "text/plain": [
       "            mean                              var                         \\\n",
       "       calls_sum gb_used messages_count calls_sum gb_used messages_count   \n",
       "tariff                                                                     \n",
       "smart        417      16             33     36219      33            796   \n",
       "ultra        526      19             49    100873      97           2285   \n",
       "\n",
       "             std                         \n",
       "       calls_sum gb_used messages_count  \n",
       "tariff                                   \n",
       "smart        190       5             28  \n",
       "ultra        317       9             47  "
      ]
     },
     "execution_count": 61,
     "metadata": {},
     "output_type": "execute_result"
    }
   ],
   "source": [
    "(df\n",
    " .pivot_table(index='tariff', values=['calls_sum', 'messages_count', 'gb_used'], aggfunc=['mean', 'var', 'std'])\n",
    " .astype('int')\n",
    ")"
   ]
  },
  {
   "cell_type": "markdown",
   "metadata": {
    "id": "8HJ7d91GlfEQ"
   },
   "source": [
    "Можно сделать вывод, что в среднем распределение трат в `ultra` сильнее разбросано вокруг среднего, больше дисперсия значений.  "
   ]
  },
  {
   "cell_type": "markdown",
   "metadata": {
    "id": "W2CHe_7u8Iz-"
   },
   "source": [
    "Подсчитаем так же общую выручку от каждого из тарифов"
   ]
  },
  {
   "cell_type": "code",
   "execution_count": 62,
   "metadata": {
    "colab": {
     "base_uri": "https://localhost:8080/",
     "height": 411
    },
    "id": "7HPLaPKH8JR0",
    "outputId": "4b7f30db-5cf2-4f66-982f-adbd12feb8a4"
   },
   "outputs": [
    {
     "data": {
      "image/png": "[encoded data removed]",
      "text/plain": [
       "<Figure size 1008x504 with 1 Axes>"
      ]
     },
     "metadata": {},
     "output_type": "display_data"
    }
   ],
   "source": [
    "all_payment = df.pivot_table(index = 'tariff', values = 'month_payment', aggfunc='sum')\n",
    "all_payment.columns = ['Year payment']\n",
    "all_payment.plot(kind = 'pie', subplots=True, autopct='%1.0f%%', shadow=True, figsize = (14,7))\n",
    "plt.show()"
   ]
  },
  {
   "cell_type": "markdown",
   "metadata": {
    "id": "_9GAZSoHqORC"
   },
   "source": [
    "### Выводы"
   ]
  },
  {
   "cell_type": "markdown",
   "metadata": {
    "id": "8u4zzeJfqRnr"
   },
   "source": [
    "В целом, можно сказать, что пользователи тарифа `smart` более консервативные и в основном интересуются звонками и интернетом в пределах тарифа (хотя интеренета с 15 ГБ им все-таки не хватает), когда как пользователи тарифа `ultra` не ограничивают себя в траффике интернета и звонках."
   ]
  },
  {
   "cell_type": "markdown",
   "metadata": {
    "id": "47NkwTTcpYif"
   },
   "source": [
    "## 4. Проверка гипотезы"
   ]
  },
  {
   "cell_type": "markdown",
   "metadata": {
    "id": "__oQLqjXrw-7"
   },
   "source": [
    "Сформулируем Н0 и Н1 гипотезы для нашего исследования.\n",
    "\n",
    "Гипотеза Н0 формулируется с учетом того, что средние значения в двух выборках будут равны, а гипотеза для Н1 - что различаются. \n",
    "\n",
    "Учитывая это, запишем:\n",
    "1. Гипотеза\n",
    "```\n",
    "Н0: Средняя выручка пользователей тарифов «Ультра» и «Смарт» не различаются\n",
    "Н1: Средняя выручка пользователей тарифов «Ультра» и «Смарт» различается.\n",
    "```\n",
    "2. Гипотеза\n",
    "```\n",
    "Н0: Средняя выручка пользователей из Москвы не отличается от выручки пользователей из других регионов,\n",
    "Н1: Средняя выручка пользователей из Москвы отличается от выручки пользователей из других регионов.\n",
    "```\n",
    "\n"
   ]
  },
  {
   "cell_type": "markdown",
   "metadata": {
    "id": "GSkRy8Pz3NAe"
   },
   "source": [
    "### Выручка пользователей тарифов «Ультра» и «Смарт»"
   ]
  },
  {
   "cell_type": "markdown",
   "metadata": {
    "id": "DM6Zfjfu0NWm"
   },
   "source": [
    "Запишем отдельно в smart и ultra выручку с пользователей данных тарифов."
   ]
  },
  {
   "cell_type": "code",
   "execution_count": 63,
   "metadata": {
    "id": "YublPfCytKtN"
   },
   "outputs": [],
   "source": [
    "smart = df.loc[df['tariff'] == 'smart', 'month_payment']\n",
    "ultra = df.loc[df['tariff'] == 'ultra', 'month_payment']"
   ]
  },
  {
   "cell_type": "markdown",
   "metadata": {
    "id": "mh8D-K2p0WtH"
   },
   "source": [
    "Найдем дисперсии для проверки их на равенство"
   ]
  },
  {
   "cell_type": "code",
   "execution_count": 64,
   "metadata": {
    "colab": {
     "base_uri": "https://localhost:8080/"
    },
    "id": "woeuMgK8yOcF",
    "outputId": "29601b57-0721-4156-8fa1-30836a842b15"
   },
   "outputs": [
    {
     "data": {
      "text/plain": [
       "673931.3213632498"
      ]
     },
     "execution_count": 64,
     "metadata": {},
     "output_type": "execute_result"
    }
   ],
   "source": [
    "equal_variance(smart)"
   ]
  },
  {
   "cell_type": "code",
   "execution_count": 65,
   "metadata": {
    "colab": {
     "base_uri": "https://localhost:8080/"
    },
    "id": "ceBI-zQByf6U",
    "outputId": "e63ca507-1727-4e88-ae21-7cbbb81fed46"
   },
   "outputs": [
    {
     "data": {
      "text/plain": [
       "143491.2405596106"
      ]
     },
     "execution_count": 65,
     "metadata": {},
     "output_type": "execute_result"
    }
   ],
   "source": [
    "equal_variance(ultra)"
   ]
  },
  {
   "cell_type": "code",
   "execution_count": 66,
   "metadata": {
    "colab": {
     "base_uri": "https://localhost:8080/"
    },
    "id": "B3d1tZCK0chp",
    "outputId": "6caddb6b-fd9c-47d7-9f17-817acaff646f"
   },
   "outputs": [
    {
     "name": "stdout",
     "output_type": "stream",
     "text": [
      "Дисперсии НЕ равны\n"
     ]
    }
   ],
   "source": [
    "if equal_variance(smart) == equal_variance(ultra):\n",
    "    print(\"Дисперсии равны\")\n",
    "else:\n",
    "    print(\"Дисперсии НЕ равны\")"
   ]
  },
  {
   "cell_type": "markdown",
   "metadata": {
    "id": "V27f-CiE0b8L"
   },
   "source": [
    "Получается, что дисперсии данных выборок НЕ равны.\n",
    "\n",
    "Чтобы проверить гипотезу о равенстве среднего двух генеральных совокупностей по взятым из них выборкам, воспользуемся тестом Стьюдента, т.к. он решает задачу доказательства наличия различий средних значений количественной переменной в случае, когда имеется лишь две сравниваемые группы.\n",
    "\n",
    "Выполняя анализ, учтем также, что дисперсии **НЕ равны**, а значит параметр **equal_var** должен принимать значение **False**."
   ]
  },
  {
   "cell_type": "code",
   "execution_count": 67,
   "metadata": {
    "colab": {
     "base_uri": "https://localhost:8080/"
    },
    "id": "Bojob2iFvKDZ",
    "outputId": "79090b87-6ccd-4a9c-850d-9b54202bc9f1"
   },
   "outputs": [
    {
     "name": "stdout",
     "output_type": "stream",
     "text": [
      "p-значение: 2.7240946993530856e-246\n",
      "Отвергаем нулевую гипотезу\n"
     ]
    }
   ],
   "source": [
    "check_hip(smart, ultra, 0.05, False)"
   ]
  },
  {
   "cell_type": "markdown",
   "metadata": {
    "id": "YNOrYWuf3CK8"
   },
   "source": [
    "### Выручка пользователей из Москвы и регионов"
   ]
  },
  {
   "cell_type": "markdown",
   "metadata": {
    "id": "i7qDrP9Q4mea"
   },
   "source": [
    "Аналогичные рассждения применим и для анализа выручки пользователей из Москвы и остальных регионов"
   ]
  },
  {
   "cell_type": "code",
   "execution_count": 68,
   "metadata": {
    "id": "WfOHOGaK13KW"
   },
   "outputs": [],
   "source": [
    "moscow_region = df.loc[df['city'] == 'Москва', 'month_payment']"
   ]
  },
  {
   "cell_type": "code",
   "execution_count": 69,
   "metadata": {
    "id": "HhgFEgmW2LUW"
   },
   "outputs": [],
   "source": [
    "other_region = df.loc[df['city'] != 'Москва', 'month_payment']"
   ]
  },
  {
   "cell_type": "code",
   "execution_count": 70,
   "metadata": {
    "colab": {
     "base_uri": "https://localhost:8080/"
    },
    "id": "4ne-o4uB2Ww4",
    "outputId": "37db3c78-3ae5-4eb3-d6a9-68c9731bfa96"
   },
   "outputs": [
    {
     "name": "stdout",
     "output_type": "stream",
     "text": [
      "Дисперсии НЕ равны\n"
     ]
    }
   ],
   "source": [
    "if equal_variance(moscow_region) == equal_variance(other_region):\n",
    "    print(\"Дисперсии равны\")\n",
    "else:\n",
    "    print(\"Дисперсии НЕ равны\")"
   ]
  },
  {
   "cell_type": "code",
   "execution_count": 71,
   "metadata": {
    "colab": {
     "base_uri": "https://localhost:8080/"
    },
    "id": "FA1NqKSu2bO-",
    "outputId": "9ce9f549-51db-4121-fb99-f680120d8776"
   },
   "outputs": [
    {
     "name": "stdout",
     "output_type": "stream",
     "text": [
      "p-значение: 0.5126564657748214\n",
      "Не получилось отвергнуть нулевую гипотезу\n"
     ]
    }
   ],
   "source": [
    "check_hip(moscow_region, other_region, 0.05, False)"
   ]
  },
  {
   "cell_type": "markdown",
   "metadata": {
    "id": "W6Qi_jyR4uBd"
   },
   "source": [
    "### Выводы"
   ]
  },
  {
   "cell_type": "markdown",
   "metadata": {
    "id": "A0RzzI2j4wR8"
   },
   "source": [
    "В ходе проверки гипотез получается, что в первом случае мы отвергаем нулевую гипотезу (логично, ведь выручка у нас от тарифов разная), а во втором - не получилось отвергнуть нулевую гипотезу."
   ]
  },
  {
   "cell_type": "markdown",
   "metadata": {
    "id": "TNpQWQ0Kp5Wi"
   },
   "source": [
    "## 5. Общий вывод"
   ]
  },
  {
   "cell_type": "markdown",
   "metadata": {
    "id": "XsH9wxDU67ls"
   },
   "source": [
    "В результате исследования мы выяснили, что пользователи тарифа `smart` более консервативные и в основном интересуются звонками и интернетом в пределах тарифа (хотя интеренета с 15 ГБ им все-таки не хватает), когда как пользователи тарифа `ultra` не ограничивают себя в траффике интернета и звонках.\n",
    "\n",
    "Можно сказать что, клиентам тарифа `smart` хватает 500 минут, при ограничении в те самые 500 минут, а клиентам тарифа `ultra` хватает порядка 600 минут, мало кто из клиентов тратит больше 1500 минут в месяц, при ограничении в 3000 минут (стоит отметить, что максимальное время затраченное на разговор было порядка 1600 минут).\n",
    "\n",
    "По сообщением тоже можно заметить, что тариф `smart` в большинстве отправляет порядка до 5 сообщений, при ограничиении тарифа 50, а тариф `ultra` отправляет также большинство сообщений до 5, при ограничении 1000.\n",
    "\n",
    "Стоит так же отметить, что в целом на тарифе `smart` пользователи чаще отправляют СМС, чем на `ultra`, это может быть связано с тем, что нет ограничения по времени разговора, и проще всего обсудить в диалоге что-то, чем отправлять СМС.\n",
    "\n",
    "По объему трафика можно сказать, что тарифу `smart` требуется в основном порядка 17 Гб в месяц, с учетом лимита 15  Гб, а с тарифом `ultra` немного сложнее, т.к. нет явных пиков, в основном это поряка 20-30 Гб, хотя есть и те, кто тратят свыше 40 Гб, напомню, лимит - 30 Гб в месяц.\n",
    "\n",
    "В ходе проверки гипотез, вспомним их:\n",
    "1. Гипотеза\n",
    "```\n",
    "Н0: Средняя выручка пользователей тарифов «Ультра» и «Смарт» не различаются\n",
    "Н1: Средняя выручка пользователей тарифов «Ультра» и «Смарт» различается.\n",
    "```\n",
    "2. Гипотеза\n",
    "```\n",
    "Н0: Средняя выручка пользователей из Москвы не отличается от выручки пользователей из других регионов,\n",
    "Н1: Средняя выручка пользователей из Москвы отличается от выручки пользователей из других регионов.\n",
    "```\n",
    "\n",
    "в первом случае мы отвергаем нулевую гипотезу (логично, ведь выручка у нас от тарифов разная), а во втором - не получилось отвергнуть нулевую гипотезу.\n",
    "\n",
    "В заключение можно сказать, что оператору \"Мегалайн\" выгоднее продвигать тариф \"Смарт\", т.к. выручка по нему составляет 59% от всей выручки оператора."
   ]
  }
 ],
 "metadata": {
  "colab": {
   "name": "Мегалайн.ipynb",
   "provenance": [],
   "toc_visible": true
  },
  "kernelspec": {
   "display_name": "Python 3",
   "language": "python",
   "name": "python3"
  },
  "language_info": {
   "codemirror_mode": {
    "name": "ipython",
    "version": 3
   },
   "file_extension": ".py",
   "mimetype": "text/x-python",
   "name": "python",
   "nbconvert_exporter": "python",
   "pygments_lexer": "ipython3",
   "version": "3.8.8"
  },
  "toc": {
   "base_numbering": 1,
   "nav_menu": {},
   "number_sections": true,
   "sideBar": true,
   "skip_h1_title": true,
   "title_cell": "Table of Contents",
   "title_sidebar": "Contents",
   "toc_cell": false,
   "toc_position": {},
   "toc_section_display": true,
   "toc_window_display": false
  },
  "widgets": {
   "application/vnd.jupyter.widget-state+json": {
    "004b7b350e744e139c4fb55138b452a2": {
     "model_module": "@jupyter-widgets/base",
     "model_name": "LayoutModel",
     "state": {
      "_model_module": "@jupyter-widgets/base",
      "_model_module_version": "1.2.0",
      "_model_name": "LayoutModel",
      "_view_count": null,
      "_view_module": "@jupyter-widgets/base",
      "_view_module_version": "1.2.0",
      "_view_name": "LayoutView",
      "align_content": null,
      "align_items": null,
      "align_self": null,
      "border": null,
      "bottom": null,
      "display": null,
      "flex": null,
      "flex_flow": null,
      "grid_area": null,
      "grid_auto_columns": null,
      "grid_auto_flow": null,
      "grid_auto_rows": null,
      "grid_column": null,
      "grid_gap": null,
      "grid_row": null,
      "grid_template_areas": null,
      "grid_template_columns": null,
      "grid_template_rows": null,
      "height": null,
      "justify_content": null,
      "justify_items": null,
      "left": null,
      "margin": null,
      "max_height": null,
      "max_width": null,
      "min_height": null,
      "min_width": null,
      "object_fit": null,
      "object_position": null,
      "order": null,
      "overflow": null,
      "overflow_x": null,
      "overflow_y": null,
      "padding": null,
      "right": null,
      "top": null,
      "visibility": null,
      "width": null
     }
    },
    "10b3a973b2374e56a4fc9c160b608929": {
     "model_module": "@jupyter-widgets/controls",
     "model_name": "FloatProgressModel",
     "state": {
      "_dom_classes": [],
      "_model_module": "@jupyter-widgets/controls",
      "_model_module_version": "1.5.0",
      "_model_name": "FloatProgressModel",
      "_view_count": null,
      "_view_module": "@jupyter-widgets/controls",
      "_view_module_version": "1.5.0",
      "_view_name": "ProgressView",
      "bar_style": "success",
      "description": "100%",
      "description_tooltip": null,
      "layout": "IPY_MODEL_d01ba7c36d914b108f386170d6d55523",
      "max": 6,
      "min": 0,
      "orientation": "horizontal",
      "style": "IPY_MODEL_c01f3c469b4246d9855ae0169111b415",
      "value": 6
     }
    },
    "132d33ec40a54a6da599b6d61046debd": {
     "model_module": "@jupyter-widgets/controls",
     "model_name": "ProgressStyleModel",
     "state": {
      "_model_module": "@jupyter-widgets/controls",
      "_model_module_version": "1.5.0",
      "_model_name": "ProgressStyleModel",
      "_view_count": null,
      "_view_module": "@jupyter-widgets/base",
      "_view_module_version": "1.2.0",
      "_view_name": "StyleView",
      "bar_color": null,
      "description_width": "initial"
     }
    },
    "15956552ee6f4129958c3809e8941246": {
     "model_module": "@jupyter-widgets/controls",
     "model_name": "FloatProgressModel",
     "state": {
      "_dom_classes": [],
      "_model_module": "@jupyter-widgets/controls",
      "_model_module_version": "1.5.0",
      "_model_name": "FloatProgressModel",
      "_view_count": null,
      "_view_module": "@jupyter-widgets/controls",
      "_view_module_version": "1.5.0",
      "_view_name": "ProgressView",
      "bar_style": "success",
      "description": "100%",
      "description_tooltip": null,
      "layout": "IPY_MODEL_d3689bfb12854bdea88ba33c6889cc14",
      "max": 500,
      "min": 0,
      "orientation": "horizontal",
      "style": "IPY_MODEL_1817587e9c3d491f88abf7dfba39497a",
      "value": 500
     }
    },
    "1817587e9c3d491f88abf7dfba39497a": {
     "model_module": "@jupyter-widgets/controls",
     "model_name": "ProgressStyleModel",
     "state": {
      "_model_module": "@jupyter-widgets/controls",
      "_model_module_version": "1.5.0",
      "_model_name": "ProgressStyleModel",
      "_view_count": null,
      "_view_module": "@jupyter-widgets/base",
      "_view_module_version": "1.2.0",
      "_view_name": "StyleView",
      "bar_color": null,
      "description_width": "initial"
     }
    },
    "1b003e75c1a04f17bcc96b1a23021232": {
     "model_module": "@jupyter-widgets/base",
     "model_name": "LayoutModel",
     "state": {
      "_model_module": "@jupyter-widgets/base",
      "_model_module_version": "1.2.0",
      "_model_name": "LayoutModel",
      "_view_count": null,
      "_view_module": "@jupyter-widgets/base",
      "_view_module_version": "1.2.0",
      "_view_name": "LayoutView",
      "align_content": null,
      "align_items": null,
      "align_self": null,
      "border": null,
      "bottom": null,
      "display": null,
      "flex": null,
      "flex_flow": null,
      "grid_area": null,
      "grid_auto_columns": null,
      "grid_auto_flow": null,
      "grid_auto_rows": null,
      "grid_column": null,
      "grid_gap": null,
      "grid_row": null,
      "grid_template_areas": null,
      "grid_template_columns": null,
      "grid_template_rows": null,
      "height": null,
      "justify_content": null,
      "justify_items": null,
      "left": null,
      "margin": null,
      "max_height": null,
      "max_width": null,
      "min_height": null,
      "min_width": null,
      "object_fit": null,
      "object_position": null,
      "order": null,
      "overflow": null,
      "overflow_x": null,
      "overflow_y": null,
      "padding": null,
      "right": null,
      "top": null,
      "visibility": null,
      "width": null
     }
    },
    "22319f507aff4fd09f94d3d41cc98193": {
     "model_module": "@jupyter-widgets/controls",
     "model_name": "DescriptionStyleModel",
     "state": {
      "_model_module": "@jupyter-widgets/controls",
      "_model_module_version": "1.5.0",
      "_model_name": "DescriptionStyleModel",
      "_view_count": null,
      "_view_module": "@jupyter-widgets/base",
      "_view_module_version": "1.2.0",
      "_view_name": "StyleView",
      "description_width": ""
     }
    },
    "2283c555ff8a40b8b923d35534ca9fca": {
     "model_module": "@jupyter-widgets/controls",
     "model_name": "HBoxModel",
     "state": {
      "_dom_classes": [],
      "_model_module": "@jupyter-widgets/controls",
      "_model_module_version": "1.5.0",
      "_model_name": "HBoxModel",
      "_view_count": null,
      "_view_module": "@jupyter-widgets/controls",
      "_view_module_version": "1.5.0",
      "_view_name": "HBoxView",
      "box_style": "",
      "children": [
       "IPY_MODEL_760a866bfb78494ea33cf3580153fa77",
       "IPY_MODEL_5981b67eb54c4ff597b3ec694d21ce91"
      ],
      "layout": "IPY_MODEL_96edfdc1d5964c638179a2a53fa7a5e7"
     }
    },
    "2532251ac42545a5bcade65b8cb47950": {
     "model_module": "@jupyter-widgets/controls",
     "model_name": "ProgressStyleModel",
     "state": {
      "_model_module": "@jupyter-widgets/controls",
      "_model_module_version": "1.5.0",
      "_model_name": "ProgressStyleModel",
      "_view_count": null,
      "_view_module": "@jupyter-widgets/base",
      "_view_module_version": "1.2.0",
      "_view_name": "StyleView",
      "bar_color": null,
      "description_width": "initial"
     }
    },
    "26d25ab2c222442a9179b0117b0a7531": {
     "model_module": "@jupyter-widgets/controls",
     "model_name": "HBoxModel",
     "state": {
      "_dom_classes": [],
      "_model_module": "@jupyter-widgets/controls",
      "_model_module_version": "1.5.0",
      "_model_name": "HBoxModel",
      "_view_count": null,
      "_view_module": "@jupyter-widgets/controls",
      "_view_module_version": "1.5.0",
      "_view_name": "HBoxView",
      "box_style": "",
      "children": [
       "IPY_MODEL_4455f3b7ad0b4aabb93036891829275e",
       "IPY_MODEL_66d42cee3d8c4ebdaeacf67517d9d71b"
      ],
      "layout": "IPY_MODEL_8567295c3f52432384b3cc3c9008fecb"
     }
    },
    "2f9e0587baf84155b62de69e0043af24": {
     "model_module": "@jupyter-widgets/controls",
     "model_name": "HTMLModel",
     "state": {
      "_dom_classes": [],
      "_model_module": "@jupyter-widgets/controls",
      "_model_module_version": "1.5.0",
      "_model_name": "HTMLModel",
      "_view_count": null,
      "_view_module": "@jupyter-widgets/controls",
      "_view_module_version": "1.5.0",
      "_view_name": "HTMLView",
      "description": "",
      "description_tooltip": null,
      "layout": "IPY_MODEL_004b7b350e744e139c4fb55138b452a2",
      "placeholder": "​",
      "style": "IPY_MODEL_22319f507aff4fd09f94d3d41cc98193",
      "value": " 500/500 [00:00&lt;00:00, 5724.28it/s]"
     }
    },
    "43f16452f1ab4fe6a35f4800dd5b865b": {
     "model_module": "@jupyter-widgets/controls",
     "model_name": "ProgressStyleModel",
     "state": {
      "_model_module": "@jupyter-widgets/controls",
      "_model_module_version": "1.5.0",
      "_model_name": "ProgressStyleModel",
      "_view_count": null,
      "_view_module": "@jupyter-widgets/base",
      "_view_module_version": "1.2.0",
      "_view_name": "StyleView",
      "bar_color": null,
      "description_width": "initial"
     }
    },
    "4455f3b7ad0b4aabb93036891829275e": {
     "model_module": "@jupyter-widgets/controls",
     "model_name": "FloatProgressModel",
     "state": {
      "_dom_classes": [],
      "_model_module": "@jupyter-widgets/controls",
      "_model_module_version": "1.5.0",
      "_model_name": "FloatProgressModel",
      "_view_count": null,
      "_view_module": "@jupyter-widgets/controls",
      "_view_module_version": "1.5.0",
      "_view_name": "ProgressView",
      "bar_style": "success",
      "description": "100%",
      "description_tooltip": null,
      "layout": "IPY_MODEL_c9dc57da4cc24e6a9c46515b3a5500db",
      "max": 5,
      "min": 0,
      "orientation": "horizontal",
      "style": "IPY_MODEL_132d33ec40a54a6da599b6d61046debd",
      "value": 5
     }
    },
    "481e87f34f2d4e70bf000fca80eaada1": {
     "model_module": "@jupyter-widgets/base",
     "model_name": "LayoutModel",
     "state": {
      "_model_module": "@jupyter-widgets/base",
      "_model_module_version": "1.2.0",
      "_model_name": "LayoutModel",
      "_view_count": null,
      "_view_module": "@jupyter-widgets/base",
      "_view_module_version": "1.2.0",
      "_view_name": "LayoutView",
      "align_content": null,
      "align_items": null,
      "align_self": null,
      "border": null,
      "bottom": null,
      "display": null,
      "flex": null,
      "flex_flow": null,
      "grid_area": null,
      "grid_auto_columns": null,
      "grid_auto_flow": null,
      "grid_auto_rows": null,
      "grid_column": null,
      "grid_gap": null,
      "grid_row": null,
      "grid_template_areas": null,
      "grid_template_columns": null,
      "grid_template_rows": null,
      "height": null,
      "justify_content": null,
      "justify_items": null,
      "left": null,
      "margin": null,
      "max_height": null,
      "max_width": null,
      "min_height": null,
      "min_width": null,
      "object_fit": null,
      "object_position": null,
      "order": null,
      "overflow": null,
      "overflow_x": null,
      "overflow_y": null,
      "padding": null,
      "right": null,
      "top": null,
      "visibility": null,
      "width": null
     }
    },
    "583c8483c91e41cc85e71bfd8453ccba": {
     "model_module": "@jupyter-widgets/controls",
     "model_name": "HBoxModel",
     "state": {
      "_dom_classes": [],
      "_model_module": "@jupyter-widgets/controls",
      "_model_module_version": "1.5.0",
      "_model_name": "HBoxModel",
      "_view_count": null,
      "_view_module": "@jupyter-widgets/controls",
      "_view_module_version": "1.5.0",
      "_view_name": "HBoxView",
      "box_style": "",
      "children": [
       "IPY_MODEL_7cacf3ff6763482fa27d87aa2e687b34",
       "IPY_MODEL_d3afa12634b4484e8979c92093d4e547"
      ],
      "layout": "IPY_MODEL_481e87f34f2d4e70bf000fca80eaada1"
     }
    },
    "5981b67eb54c4ff597b3ec694d21ce91": {
     "model_module": "@jupyter-widgets/controls",
     "model_name": "HTMLModel",
     "state": {
      "_dom_classes": [],
      "_model_module": "@jupyter-widgets/controls",
      "_model_module_version": "1.5.0",
      "_model_name": "HTMLModel",
      "_view_count": null,
      "_view_module": "@jupyter-widgets/controls",
      "_view_module_version": "1.5.0",
      "_view_name": "HTMLView",
      "description": "",
      "description_tooltip": null,
      "layout": "IPY_MODEL_aecdb862d8d148bb881b1740d4876da7",
      "placeholder": "​",
      "style": "IPY_MODEL_6d0f8830c7ef42328bac5890ceb473d9",
      "value": " 3214/3214 [00:07&lt;00:00, 444.75it/s]"
     }
    },
    "66d42cee3d8c4ebdaeacf67517d9d71b": {
     "model_module": "@jupyter-widgets/controls",
     "model_name": "HTMLModel",
     "state": {
      "_dom_classes": [],
      "_model_module": "@jupyter-widgets/controls",
      "_model_module_version": "1.5.0",
      "_model_name": "HTMLModel",
      "_view_count": null,
      "_view_module": "@jupyter-widgets/controls",
      "_view_module_version": "1.5.0",
      "_view_name": "HTMLView",
      "description": "",
      "description_tooltip": null,
      "layout": "IPY_MODEL_f6031e69fe924159b5921eeb39b31f79",
      "placeholder": "​",
      "style": "IPY_MODEL_8ddefc07fb7043ea84825b1a777fb91c",
      "value": " 5/5 [00:00&lt;00:00,  5.72it/s]"
     }
    },
    "69c3904e7dc44118a14d5a088faae1c4": {
     "model_module": "@jupyter-widgets/controls",
     "model_name": "DescriptionStyleModel",
     "state": {
      "_model_module": "@jupyter-widgets/controls",
      "_model_module_version": "1.5.0",
      "_model_name": "DescriptionStyleModel",
      "_view_count": null,
      "_view_module": "@jupyter-widgets/base",
      "_view_module_version": "1.2.0",
      "_view_name": "StyleView",
      "description_width": ""
     }
    },
    "6d0f8830c7ef42328bac5890ceb473d9": {
     "model_module": "@jupyter-widgets/controls",
     "model_name": "DescriptionStyleModel",
     "state": {
      "_model_module": "@jupyter-widgets/controls",
      "_model_module_version": "1.5.0",
      "_model_name": "DescriptionStyleModel",
      "_view_count": null,
      "_view_module": "@jupyter-widgets/base",
      "_view_module_version": "1.2.0",
      "_view_name": "StyleView",
      "description_width": ""
     }
    },
    "702bd604dc51451f83edf283680c1809": {
     "model_module": "@jupyter-widgets/base",
     "model_name": "LayoutModel",
     "state": {
      "_model_module": "@jupyter-widgets/base",
      "_model_module_version": "1.2.0",
      "_model_name": "LayoutModel",
      "_view_count": null,
      "_view_module": "@jupyter-widgets/base",
      "_view_module_version": "1.2.0",
      "_view_name": "LayoutView",
      "align_content": null,
      "align_items": null,
      "align_self": null,
      "border": null,
      "bottom": null,
      "display": null,
      "flex": null,
      "flex_flow": null,
      "grid_area": null,
      "grid_auto_columns": null,
      "grid_auto_flow": null,
      "grid_auto_rows": null,
      "grid_column": null,
      "grid_gap": null,
      "grid_row": null,
      "grid_template_areas": null,
      "grid_template_columns": null,
      "grid_template_rows": null,
      "height": null,
      "justify_content": null,
      "justify_items": null,
      "left": null,
      "margin": null,
      "max_height": null,
      "max_width": null,
      "min_height": null,
      "min_width": null,
      "object_fit": null,
      "object_position": null,
      "order": null,
      "overflow": null,
      "overflow_x": null,
      "overflow_y": null,
      "padding": null,
      "right": null,
      "top": null,
      "visibility": null,
      "width": null
     }
    },
    "760a866bfb78494ea33cf3580153fa77": {
     "model_module": "@jupyter-widgets/controls",
     "model_name": "FloatProgressModel",
     "state": {
      "_dom_classes": [],
      "_model_module": "@jupyter-widgets/controls",
      "_model_module_version": "1.5.0",
      "_model_name": "FloatProgressModel",
      "_view_count": null,
      "_view_module": "@jupyter-widgets/controls",
      "_view_module_version": "1.5.0",
      "_view_name": "ProgressView",
      "bar_style": "success",
      "description": "100%",
      "description_tooltip": null,
      "layout": "IPY_MODEL_ad2dc9dae2eb402389b44f3e58fb3a2d",
      "max": 3214,
      "min": 0,
      "orientation": "horizontal",
      "style": "IPY_MODEL_43f16452f1ab4fe6a35f4800dd5b865b",
      "value": 3214
     }
    },
    "7cacf3ff6763482fa27d87aa2e687b34": {
     "model_module": "@jupyter-widgets/controls",
     "model_name": "FloatProgressModel",
     "state": {
      "_dom_classes": [],
      "_model_module": "@jupyter-widgets/controls",
      "_model_module_version": "1.5.0",
      "_model_name": "FloatProgressModel",
      "_view_count": null,
      "_view_module": "@jupyter-widgets/controls",
      "_view_module_version": "1.5.0",
      "_view_name": "ProgressView",
      "bar_style": "success",
      "description": "100%",
      "description_tooltip": null,
      "layout": "IPY_MODEL_beb24bdc24624014a670dd5c648b2285",
      "max": 3,
      "min": 0,
      "orientation": "horizontal",
      "style": "IPY_MODEL_2532251ac42545a5bcade65b8cb47950",
      "value": 3
     }
    },
    "81f0dfb421bc4ec093cd879f32a6b56c": {
     "model_module": "@jupyter-widgets/base",
     "model_name": "LayoutModel",
     "state": {
      "_model_module": "@jupyter-widgets/base",
      "_model_module_version": "1.2.0",
      "_model_name": "LayoutModel",
      "_view_count": null,
      "_view_module": "@jupyter-widgets/base",
      "_view_module_version": "1.2.0",
      "_view_name": "LayoutView",
      "align_content": null,
      "align_items": null,
      "align_self": null,
      "border": null,
      "bottom": null,
      "display": null,
      "flex": null,
      "flex_flow": null,
      "grid_area": null,
      "grid_auto_columns": null,
      "grid_auto_flow": null,
      "grid_auto_rows": null,
      "grid_column": null,
      "grid_gap": null,
      "grid_row": null,
      "grid_template_areas": null,
      "grid_template_columns": null,
      "grid_template_rows": null,
      "height": null,
      "justify_content": null,
      "justify_items": null,
      "left": null,
      "margin": null,
      "max_height": null,
      "max_width": null,
      "min_height": null,
      "min_width": null,
      "object_fit": null,
      "object_position": null,
      "order": null,
      "overflow": null,
      "overflow_x": null,
      "overflow_y": null,
      "padding": null,
      "right": null,
      "top": null,
      "visibility": null,
      "width": null
     }
    },
    "8567295c3f52432384b3cc3c9008fecb": {
     "model_module": "@jupyter-widgets/base",
     "model_name": "LayoutModel",
     "state": {
      "_model_module": "@jupyter-widgets/base",
      "_model_module_version": "1.2.0",
      "_model_name": "LayoutModel",
      "_view_count": null,
      "_view_module": "@jupyter-widgets/base",
      "_view_module_version": "1.2.0",
      "_view_name": "LayoutView",
      "align_content": null,
      "align_items": null,
      "align_self": null,
      "border": null,
      "bottom": null,
      "display": null,
      "flex": null,
      "flex_flow": null,
      "grid_area": null,
      "grid_auto_columns": null,
      "grid_auto_flow": null,
      "grid_auto_rows": null,
      "grid_column": null,
      "grid_gap": null,
      "grid_row": null,
      "grid_template_areas": null,
      "grid_template_columns": null,
      "grid_template_rows": null,
      "height": null,
      "justify_content": null,
      "justify_items": null,
      "left": null,
      "margin": null,
      "max_height": null,
      "max_width": null,
      "min_height": null,
      "min_width": null,
      "object_fit": null,
      "object_position": null,
      "order": null,
      "overflow": null,
      "overflow_x": null,
      "overflow_y": null,
      "padding": null,
      "right": null,
      "top": null,
      "visibility": null,
      "width": null
     }
    },
    "8ddefc07fb7043ea84825b1a777fb91c": {
     "model_module": "@jupyter-widgets/controls",
     "model_name": "DescriptionStyleModel",
     "state": {
      "_model_module": "@jupyter-widgets/controls",
      "_model_module_version": "1.5.0",
      "_model_name": "DescriptionStyleModel",
      "_view_count": null,
      "_view_module": "@jupyter-widgets/base",
      "_view_module_version": "1.2.0",
      "_view_name": "StyleView",
      "description_width": ""
     }
    },
    "90794462d02f438eb47f10877c7dce05": {
     "model_module": "@jupyter-widgets/controls",
     "model_name": "DescriptionStyleModel",
     "state": {
      "_model_module": "@jupyter-widgets/controls",
      "_model_module_version": "1.5.0",
      "_model_name": "DescriptionStyleModel",
      "_view_count": null,
      "_view_module": "@jupyter-widgets/base",
      "_view_module_version": "1.2.0",
      "_view_name": "StyleView",
      "description_width": ""
     }
    },
    "945d375df11a4211a89a2c329e5401e1": {
     "model_module": "@jupyter-widgets/base",
     "model_name": "LayoutModel",
     "state": {
      "_model_module": "@jupyter-widgets/base",
      "_model_module_version": "1.2.0",
      "_model_name": "LayoutModel",
      "_view_count": null,
      "_view_module": "@jupyter-widgets/base",
      "_view_module_version": "1.2.0",
      "_view_name": "LayoutView",
      "align_content": null,
      "align_items": null,
      "align_self": null,
      "border": null,
      "bottom": null,
      "display": null,
      "flex": null,
      "flex_flow": null,
      "grid_area": null,
      "grid_auto_columns": null,
      "grid_auto_flow": null,
      "grid_auto_rows": null,
      "grid_column": null,
      "grid_gap": null,
      "grid_row": null,
      "grid_template_areas": null,
      "grid_template_columns": null,
      "grid_template_rows": null,
      "height": null,
      "justify_content": null,
      "justify_items": null,
      "left": null,
      "margin": null,
      "max_height": null,
      "max_width": null,
      "min_height": null,
      "min_width": null,
      "object_fit": null,
      "object_position": null,
      "order": null,
      "overflow": null,
      "overflow_x": null,
      "overflow_y": null,
      "padding": null,
      "right": null,
      "top": null,
      "visibility": null,
      "width": null
     }
    },
    "96edfdc1d5964c638179a2a53fa7a5e7": {
     "model_module": "@jupyter-widgets/base",
     "model_name": "LayoutModel",
     "state": {
      "_model_module": "@jupyter-widgets/base",
      "_model_module_version": "1.2.0",
      "_model_name": "LayoutModel",
      "_view_count": null,
      "_view_module": "@jupyter-widgets/base",
      "_view_module_version": "1.2.0",
      "_view_name": "LayoutView",
      "align_content": null,
      "align_items": null,
      "align_self": null,
      "border": null,
      "bottom": null,
      "display": null,
      "flex": null,
      "flex_flow": null,
      "grid_area": null,
      "grid_auto_columns": null,
      "grid_auto_flow": null,
      "grid_auto_rows": null,
      "grid_column": null,
      "grid_gap": null,
      "grid_row": null,
      "grid_template_areas": null,
      "grid_template_columns": null,
      "grid_template_rows": null,
      "height": null,
      "justify_content": null,
      "justify_items": null,
      "left": null,
      "margin": null,
      "max_height": null,
      "max_width": null,
      "min_height": null,
      "min_width": null,
      "object_fit": null,
      "object_position": null,
      "order": null,
      "overflow": null,
      "overflow_x": null,
      "overflow_y": null,
      "padding": null,
      "right": null,
      "top": null,
      "visibility": null,
      "width": null
     }
    },
    "ad2dc9dae2eb402389b44f3e58fb3a2d": {
     "model_module": "@jupyter-widgets/base",
     "model_name": "LayoutModel",
     "state": {
      "_model_module": "@jupyter-widgets/base",
      "_model_module_version": "1.2.0",
      "_model_name": "LayoutModel",
      "_view_count": null,
      "_view_module": "@jupyter-widgets/base",
      "_view_module_version": "1.2.0",
      "_view_name": "LayoutView",
      "align_content": null,
      "align_items": null,
      "align_self": null,
      "border": null,
      "bottom": null,
      "display": null,
      "flex": null,
      "flex_flow": null,
      "grid_area": null,
      "grid_auto_columns": null,
      "grid_auto_flow": null,
      "grid_auto_rows": null,
      "grid_column": null,
      "grid_gap": null,
      "grid_row": null,
      "grid_template_areas": null,
      "grid_template_columns": null,
      "grid_template_rows": null,
      "height": null,
      "justify_content": null,
      "justify_items": null,
      "left": null,
      "margin": null,
      "max_height": null,
      "max_width": null,
      "min_height": null,
      "min_width": null,
      "object_fit": null,
      "object_position": null,
      "order": null,
      "overflow": null,
      "overflow_x": null,
      "overflow_y": null,
      "padding": null,
      "right": null,
      "top": null,
      "visibility": null,
      "width": null
     }
    },
    "aecdb862d8d148bb881b1740d4876da7": {
     "model_module": "@jupyter-widgets/base",
     "model_name": "LayoutModel",
     "state": {
      "_model_module": "@jupyter-widgets/base",
      "_model_module_version": "1.2.0",
      "_model_name": "LayoutModel",
      "_view_count": null,
      "_view_module": "@jupyter-widgets/base",
      "_view_module_version": "1.2.0",
      "_view_name": "LayoutView",
      "align_content": null,
      "align_items": null,
      "align_self": null,
      "border": null,
      "bottom": null,
      "display": null,
      "flex": null,
      "flex_flow": null,
      "grid_area": null,
      "grid_auto_columns": null,
      "grid_auto_flow": null,
      "grid_auto_rows": null,
      "grid_column": null,
      "grid_gap": null,
      "grid_row": null,
      "grid_template_areas": null,
      "grid_template_columns": null,
      "grid_template_rows": null,
      "height": null,
      "justify_content": null,
      "justify_items": null,
      "left": null,
      "margin": null,
      "max_height": null,
      "max_width": null,
      "min_height": null,
      "min_width": null,
      "object_fit": null,
      "object_position": null,
      "order": null,
      "overflow": null,
      "overflow_x": null,
      "overflow_y": null,
      "padding": null,
      "right": null,
      "top": null,
      "visibility": null,
      "width": null
     }
    },
    "beb24bdc24624014a670dd5c648b2285": {
     "model_module": "@jupyter-widgets/base",
     "model_name": "LayoutModel",
     "state": {
      "_model_module": "@jupyter-widgets/base",
      "_model_module_version": "1.2.0",
      "_model_name": "LayoutModel",
      "_view_count": null,
      "_view_module": "@jupyter-widgets/base",
      "_view_module_version": "1.2.0",
      "_view_name": "LayoutView",
      "align_content": null,
      "align_items": null,
      "align_self": null,
      "border": null,
      "bottom": null,
      "display": null,
      "flex": null,
      "flex_flow": null,
      "grid_area": null,
      "grid_auto_columns": null,
      "grid_auto_flow": null,
      "grid_auto_rows": null,
      "grid_column": null,
      "grid_gap": null,
      "grid_row": null,
      "grid_template_areas": null,
      "grid_template_columns": null,
      "grid_template_rows": null,
      "height": null,
      "justify_content": null,
      "justify_items": null,
      "left": null,
      "margin": null,
      "max_height": null,
      "max_width": null,
      "min_height": null,
      "min_width": null,
      "object_fit": null,
      "object_position": null,
      "order": null,
      "overflow": null,
      "overflow_x": null,
      "overflow_y": null,
      "padding": null,
      "right": null,
      "top": null,
      "visibility": null,
      "width": null
     }
    },
    "c01f3c469b4246d9855ae0169111b415": {
     "model_module": "@jupyter-widgets/controls",
     "model_name": "ProgressStyleModel",
     "state": {
      "_model_module": "@jupyter-widgets/controls",
      "_model_module_version": "1.5.0",
      "_model_name": "ProgressStyleModel",
      "_view_count": null,
      "_view_module": "@jupyter-widgets/base",
      "_view_module_version": "1.2.0",
      "_view_name": "StyleView",
      "bar_color": null,
      "description_width": "initial"
     }
    },
    "c9dc57da4cc24e6a9c46515b3a5500db": {
     "model_module": "@jupyter-widgets/base",
     "model_name": "LayoutModel",
     "state": {
      "_model_module": "@jupyter-widgets/base",
      "_model_module_version": "1.2.0",
      "_model_name": "LayoutModel",
      "_view_count": null,
      "_view_module": "@jupyter-widgets/base",
      "_view_module_version": "1.2.0",
      "_view_name": "LayoutView",
      "align_content": null,
      "align_items": null,
      "align_self": null,
      "border": null,
      "bottom": null,
      "display": null,
      "flex": null,
      "flex_flow": null,
      "grid_area": null,
      "grid_auto_columns": null,
      "grid_auto_flow": null,
      "grid_auto_rows": null,
      "grid_column": null,
      "grid_gap": null,
      "grid_row": null,
      "grid_template_areas": null,
      "grid_template_columns": null,
      "grid_template_rows": null,
      "height": null,
      "justify_content": null,
      "justify_items": null,
      "left": null,
      "margin": null,
      "max_height": null,
      "max_width": null,
      "min_height": null,
      "min_width": null,
      "object_fit": null,
      "object_position": null,
      "order": null,
      "overflow": null,
      "overflow_x": null,
      "overflow_y": null,
      "padding": null,
      "right": null,
      "top": null,
      "visibility": null,
      "width": null
     }
    },
    "d01ba7c36d914b108f386170d6d55523": {
     "model_module": "@jupyter-widgets/base",
     "model_name": "LayoutModel",
     "state": {
      "_model_module": "@jupyter-widgets/base",
      "_model_module_version": "1.2.0",
      "_model_name": "LayoutModel",
      "_view_count": null,
      "_view_module": "@jupyter-widgets/base",
      "_view_module_version": "1.2.0",
      "_view_name": "LayoutView",
      "align_content": null,
      "align_items": null,
      "align_self": null,
      "border": null,
      "bottom": null,
      "display": null,
      "flex": null,
      "flex_flow": null,
      "grid_area": null,
      "grid_auto_columns": null,
      "grid_auto_flow": null,
      "grid_auto_rows": null,
      "grid_column": null,
      "grid_gap": null,
      "grid_row": null,
      "grid_template_areas": null,
      "grid_template_columns": null,
      "grid_template_rows": null,
      "height": null,
      "justify_content": null,
      "justify_items": null,
      "left": null,
      "margin": null,
      "max_height": null,
      "max_width": null,
      "min_height": null,
      "min_width": null,
      "object_fit": null,
      "object_position": null,
      "order": null,
      "overflow": null,
      "overflow_x": null,
      "overflow_y": null,
      "padding": null,
      "right": null,
      "top": null,
      "visibility": null,
      "width": null
     }
    },
    "d3689bfb12854bdea88ba33c6889cc14": {
     "model_module": "@jupyter-widgets/base",
     "model_name": "LayoutModel",
     "state": {
      "_model_module": "@jupyter-widgets/base",
      "_model_module_version": "1.2.0",
      "_model_name": "LayoutModel",
      "_view_count": null,
      "_view_module": "@jupyter-widgets/base",
      "_view_module_version": "1.2.0",
      "_view_name": "LayoutView",
      "align_content": null,
      "align_items": null,
      "align_self": null,
      "border": null,
      "bottom": null,
      "display": null,
      "flex": null,
      "flex_flow": null,
      "grid_area": null,
      "grid_auto_columns": null,
      "grid_auto_flow": null,
      "grid_auto_rows": null,
      "grid_column": null,
      "grid_gap": null,
      "grid_row": null,
      "grid_template_areas": null,
      "grid_template_columns": null,
      "grid_template_rows": null,
      "height": null,
      "justify_content": null,
      "justify_items": null,
      "left": null,
      "margin": null,
      "max_height": null,
      "max_width": null,
      "min_height": null,
      "min_width": null,
      "object_fit": null,
      "object_position": null,
      "order": null,
      "overflow": null,
      "overflow_x": null,
      "overflow_y": null,
      "padding": null,
      "right": null,
      "top": null,
      "visibility": null,
      "width": null
     }
    },
    "d3afa12634b4484e8979c92093d4e547": {
     "model_module": "@jupyter-widgets/controls",
     "model_name": "HTMLModel",
     "state": {
      "_dom_classes": [],
      "_model_module": "@jupyter-widgets/controls",
      "_model_module_version": "1.5.0",
      "_model_name": "HTMLModel",
      "_view_count": null,
      "_view_module": "@jupyter-widgets/controls",
      "_view_module_version": "1.5.0",
      "_view_name": "HTMLView",
      "description": "",
      "description_tooltip": null,
      "layout": "IPY_MODEL_702bd604dc51451f83edf283680c1809",
      "placeholder": "​",
      "style": "IPY_MODEL_90794462d02f438eb47f10877c7dce05",
      "value": " 3/3 [00:00&lt;00:00, 12.07it/s]"
     }
    },
    "dd97d24682f7419aa6b8a928c5c421e0": {
     "model_module": "@jupyter-widgets/controls",
     "model_name": "HBoxModel",
     "state": {
      "_dom_classes": [],
      "_model_module": "@jupyter-widgets/controls",
      "_model_module_version": "1.5.0",
      "_model_name": "HBoxModel",
      "_view_count": null,
      "_view_module": "@jupyter-widgets/controls",
      "_view_module_version": "1.5.0",
      "_view_name": "HBoxView",
      "box_style": "",
      "children": [
       "IPY_MODEL_10b3a973b2374e56a4fc9c160b608929",
       "IPY_MODEL_e130f8c04f204289b61310fd81154dcd"
      ],
      "layout": "IPY_MODEL_1b003e75c1a04f17bcc96b1a23021232"
     }
    },
    "e130f8c04f204289b61310fd81154dcd": {
     "model_module": "@jupyter-widgets/controls",
     "model_name": "HTMLModel",
     "state": {
      "_dom_classes": [],
      "_model_module": "@jupyter-widgets/controls",
      "_model_module_version": "1.5.0",
      "_model_name": "HTMLModel",
      "_view_count": null,
      "_view_module": "@jupyter-widgets/controls",
      "_view_module_version": "1.5.0",
      "_view_name": "HTMLView",
      "description": "",
      "description_tooltip": null,
      "layout": "IPY_MODEL_945d375df11a4211a89a2c329e5401e1",
      "placeholder": "​",
      "style": "IPY_MODEL_69c3904e7dc44118a14d5a088faae1c4",
      "value": " 6/6 [00:00&lt;00:00, 69.28it/s]"
     }
    },
    "ed359394a50d461880ed6d88b5ebe0da": {
     "model_module": "@jupyter-widgets/controls",
     "model_name": "HBoxModel",
     "state": {
      "_dom_classes": [],
      "_model_module": "@jupyter-widgets/controls",
      "_model_module_version": "1.5.0",
      "_model_name": "HBoxModel",
      "_view_count": null,
      "_view_module": "@jupyter-widgets/controls",
      "_view_module_version": "1.5.0",
      "_view_name": "HBoxView",
      "box_style": "",
      "children": [
       "IPY_MODEL_15956552ee6f4129958c3809e8941246",
       "IPY_MODEL_2f9e0587baf84155b62de69e0043af24"
      ],
      "layout": "IPY_MODEL_81f0dfb421bc4ec093cd879f32a6b56c"
     }
    },
    "f6031e69fe924159b5921eeb39b31f79": {
     "model_module": "@jupyter-widgets/base",
     "model_name": "LayoutModel",
     "state": {
      "_model_module": "@jupyter-widgets/base",
      "_model_module_version": "1.2.0",
      "_model_name": "LayoutModel",
      "_view_count": null,
      "_view_module": "@jupyter-widgets/base",
      "_view_module_version": "1.2.0",
      "_view_name": "LayoutView",
      "align_content": null,
      "align_items": null,
      "align_self": null,
      "border": null,
      "bottom": null,
      "display": null,
      "flex": null,
      "flex_flow": null,
      "grid_area": null,
      "grid_auto_columns": null,
      "grid_auto_flow": null,
      "grid_auto_rows": null,
      "grid_column": null,
      "grid_gap": null,
      "grid_row": null,
      "grid_template_areas": null,
      "grid_template_columns": null,
      "grid_template_rows": null,
      "height": null,
      "justify_content": null,
      "justify_items": null,
      "left": null,
      "margin": null,
      "max_height": null,
      "max_width": null,
      "min_height": null,
      "min_width": null,
      "object_fit": null,
      "object_position": null,
      "order": null,
      "overflow": null,
      "overflow_x": null,
      "overflow_y": null,
      "padding": null,
      "right": null,
      "top": null,
      "visibility": null,
      "width": null
     }
    }
   }
  }
 },
 "nbformat": 4,
 "nbformat_minor": 1
}
